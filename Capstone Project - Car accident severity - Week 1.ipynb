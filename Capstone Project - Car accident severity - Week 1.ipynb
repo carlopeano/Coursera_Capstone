{
 "cells": [
  {
   "cell_type": "markdown",
   "metadata": {},
   "source": [
    "# Capstone Project - Car accident severity (Week 1)\n",
    "\n",
    "### Applied Data Science Capstone by IBM/Coursera"
   ]
  },
  {
   "cell_type": "markdown",
   "metadata": {},
   "source": [
    "## Table of contents\n",
    "* [1. Introduction: Business Problem](#introduction)\n",
    "* [2. Data](#data)\n",
    "* [References](#notes)"
   ]
  },
  {
   "cell_type": "markdown",
   "metadata": {},
   "source": [
    "## 1. Introduction: Business Problem <a name=\"introduction\"></a>"
   ]
  },
  {
   "cell_type": "markdown",
   "metadata": {},
   "source": [
    "According to the WHO ([1](#notes)), even though vehicles have become much safer in the last decades, every year around 1.35 million people still die because of a road traffic crash and between 20 and 50 million more people suffer non-fatal injuries with many incurring a disability.\n",
    "\n",
    "If we take a different perspective and consider the economic impact at national level, road traffic accidents also cost around 3% of gross domestic product to most countries ([2](#notes)).\n",
    "\n",
    "Therefore, there is a great interest in different parts of society (such governments, decision-makers, car-makers, drivers, insurance companies) in changing and descreasing this trend.\n",
    "\n",
    "A solution that would reduce the number of incidents could be the chance to warn a driver about the possibility of getting into a car accident and how severe that incident would be, given the weather and road conditions. In this way people would drive more carefully or even stay home.\n",
    "\n",
    "Transforming this issue into a machine learning problem, we could use a dataset provided by a city and its police department (in our case Seattle City and the SPD - Seattle Police Department) to predict the probability and severity of an accident based on various factors, such as the conditions of weather and the road."
   ]
  },
  {
   "cell_type": "markdown",
   "metadata": {},
   "source": [
    "## 2. Data <a name=\"data\"></a>"
   ]
  },
  {
   "cell_type": "markdown",
   "metadata": {},
   "source": [
    "### 2.1 Data understanding"
   ]
  },
  {
   "cell_type": "markdown",
   "metadata": {},
   "source": [
    "As already mentioned above, in this project we use the data provided by the SPD (Seattle Police Department) and recorded by the Traffic Records. This dataset - called Data-Collisions.csv - includes all types of collisions involving cars, bikes, pedestrians and others (around 200,000) from 2004 to present.\n",
    "\n",
    "In this phase, after we extract the dataset we look for the most relevant attributes - related to the severity of an incident - out of the 38 available. Logically, the proper attributes are related to the the objective of our project, i.e. condition of the road, driver and weather.\n",
    "\n",
    "Lastly, we search for trends, pattern and correlations."
   ]
  },
  {
   "cell_type": "code",
   "execution_count": 149,
   "metadata": {},
   "outputs": [],
   "source": [
    "import itertools\n",
    "import numpy as np\n",
    "import matplotlib.pyplot as plt\n",
    "import seaborn as sns\n",
    "from matplotlib.ticker import NullFormatter\n",
    "import pandas as pd\n",
    "import numpy as np\n",
    "import matplotlib.ticker as ticker\n",
    "from sklearn import preprocessing\n",
    "%matplotlib inline"
   ]
  },
  {
   "cell_type": "code",
   "execution_count": 107,
   "metadata": {
    "scrolled": true
   },
   "outputs": [],
   "source": [
    "#wget -O /Users/carlopeano/Desktop/projects/Coursera_Capstone/Data_Collisions.csv https://s3.us.cloud-object-storage.appdomain.cloud/cf-courses-data/CognitiveClass/DP0701EN/version-2/Data-Collisions.csv "
   ]
  },
  {
   "cell_type": "code",
   "execution_count": 151,
   "metadata": {
    "scrolled": true
   },
   "outputs": [
    {
     "name": "stderr",
     "output_type": "stream",
     "text": [
      "/Users/carlopeano/opt/anaconda3/lib/python3.7/site-packages/IPython/core/interactiveshell.py:3146: DtypeWarning: Columns (33) have mixed types.Specify dtype option on import or set low_memory=False.\n",
      "  interactivity=interactivity, compiler=compiler, result=result)\n"
     ]
    },
    {
     "data": {
      "text/html": [
       "<div>\n",
       "<style scoped>\n",
       "    .dataframe tbody tr th:only-of-type {\n",
       "        vertical-align: middle;\n",
       "    }\n",
       "\n",
       "    .dataframe tbody tr th {\n",
       "        vertical-align: top;\n",
       "    }\n",
       "\n",
       "    .dataframe thead th {\n",
       "        text-align: right;\n",
       "    }\n",
       "</style>\n",
       "<table border=\"1\" class=\"dataframe\">\n",
       "  <thead>\n",
       "    <tr style=\"text-align: right;\">\n",
       "      <th></th>\n",
       "      <th>SEVERITYCODE</th>\n",
       "      <th>X</th>\n",
       "      <th>Y</th>\n",
       "      <th>OBJECTID</th>\n",
       "      <th>INCKEY</th>\n",
       "      <th>COLDETKEY</th>\n",
       "      <th>REPORTNO</th>\n",
       "      <th>STATUS</th>\n",
       "      <th>ADDRTYPE</th>\n",
       "      <th>INTKEY</th>\n",
       "      <th>...</th>\n",
       "      <th>ROADCOND</th>\n",
       "      <th>LIGHTCOND</th>\n",
       "      <th>PEDROWNOTGRNT</th>\n",
       "      <th>SDOTCOLNUM</th>\n",
       "      <th>SPEEDING</th>\n",
       "      <th>ST_COLCODE</th>\n",
       "      <th>ST_COLDESC</th>\n",
       "      <th>SEGLANEKEY</th>\n",
       "      <th>CROSSWALKKEY</th>\n",
       "      <th>HITPARKEDCAR</th>\n",
       "    </tr>\n",
       "  </thead>\n",
       "  <tbody>\n",
       "    <tr>\n",
       "      <th>0</th>\n",
       "      <td>2</td>\n",
       "      <td>-122.323148</td>\n",
       "      <td>47.703140</td>\n",
       "      <td>1</td>\n",
       "      <td>1307</td>\n",
       "      <td>1307</td>\n",
       "      <td>3502005</td>\n",
       "      <td>Matched</td>\n",
       "      <td>Intersection</td>\n",
       "      <td>37475.0</td>\n",
       "      <td>...</td>\n",
       "      <td>Wet</td>\n",
       "      <td>Daylight</td>\n",
       "      <td>NaN</td>\n",
       "      <td>NaN</td>\n",
       "      <td>NaN</td>\n",
       "      <td>10</td>\n",
       "      <td>Entering at angle</td>\n",
       "      <td>0</td>\n",
       "      <td>0</td>\n",
       "      <td>N</td>\n",
       "    </tr>\n",
       "    <tr>\n",
       "      <th>1</th>\n",
       "      <td>1</td>\n",
       "      <td>-122.347294</td>\n",
       "      <td>47.647172</td>\n",
       "      <td>2</td>\n",
       "      <td>52200</td>\n",
       "      <td>52200</td>\n",
       "      <td>2607959</td>\n",
       "      <td>Matched</td>\n",
       "      <td>Block</td>\n",
       "      <td>NaN</td>\n",
       "      <td>...</td>\n",
       "      <td>Wet</td>\n",
       "      <td>Dark - Street Lights On</td>\n",
       "      <td>NaN</td>\n",
       "      <td>6354039.0</td>\n",
       "      <td>NaN</td>\n",
       "      <td>11</td>\n",
       "      <td>From same direction - both going straight - bo...</td>\n",
       "      <td>0</td>\n",
       "      <td>0</td>\n",
       "      <td>N</td>\n",
       "    </tr>\n",
       "    <tr>\n",
       "      <th>2</th>\n",
       "      <td>1</td>\n",
       "      <td>-122.334540</td>\n",
       "      <td>47.607871</td>\n",
       "      <td>3</td>\n",
       "      <td>26700</td>\n",
       "      <td>26700</td>\n",
       "      <td>1482393</td>\n",
       "      <td>Matched</td>\n",
       "      <td>Block</td>\n",
       "      <td>NaN</td>\n",
       "      <td>...</td>\n",
       "      <td>Dry</td>\n",
       "      <td>Daylight</td>\n",
       "      <td>NaN</td>\n",
       "      <td>4323031.0</td>\n",
       "      <td>NaN</td>\n",
       "      <td>32</td>\n",
       "      <td>One parked--one moving</td>\n",
       "      <td>0</td>\n",
       "      <td>0</td>\n",
       "      <td>N</td>\n",
       "    </tr>\n",
       "    <tr>\n",
       "      <th>3</th>\n",
       "      <td>1</td>\n",
       "      <td>-122.334803</td>\n",
       "      <td>47.604803</td>\n",
       "      <td>4</td>\n",
       "      <td>1144</td>\n",
       "      <td>1144</td>\n",
       "      <td>3503937</td>\n",
       "      <td>Matched</td>\n",
       "      <td>Block</td>\n",
       "      <td>NaN</td>\n",
       "      <td>...</td>\n",
       "      <td>Dry</td>\n",
       "      <td>Daylight</td>\n",
       "      <td>NaN</td>\n",
       "      <td>NaN</td>\n",
       "      <td>NaN</td>\n",
       "      <td>23</td>\n",
       "      <td>From same direction - all others</td>\n",
       "      <td>0</td>\n",
       "      <td>0</td>\n",
       "      <td>N</td>\n",
       "    </tr>\n",
       "    <tr>\n",
       "      <th>4</th>\n",
       "      <td>2</td>\n",
       "      <td>-122.306426</td>\n",
       "      <td>47.545739</td>\n",
       "      <td>5</td>\n",
       "      <td>17700</td>\n",
       "      <td>17700</td>\n",
       "      <td>1807429</td>\n",
       "      <td>Matched</td>\n",
       "      <td>Intersection</td>\n",
       "      <td>34387.0</td>\n",
       "      <td>...</td>\n",
       "      <td>Wet</td>\n",
       "      <td>Daylight</td>\n",
       "      <td>NaN</td>\n",
       "      <td>4028032.0</td>\n",
       "      <td>NaN</td>\n",
       "      <td>10</td>\n",
       "      <td>Entering at angle</td>\n",
       "      <td>0</td>\n",
       "      <td>0</td>\n",
       "      <td>N</td>\n",
       "    </tr>\n",
       "  </tbody>\n",
       "</table>\n",
       "<p>5 rows × 38 columns</p>\n",
       "</div>"
      ],
      "text/plain": [
       "   SEVERITYCODE           X          Y  OBJECTID  INCKEY  COLDETKEY REPORTNO  \\\n",
       "0             2 -122.323148  47.703140         1    1307       1307  3502005   \n",
       "1             1 -122.347294  47.647172         2   52200      52200  2607959   \n",
       "2             1 -122.334540  47.607871         3   26700      26700  1482393   \n",
       "3             1 -122.334803  47.604803         4    1144       1144  3503937   \n",
       "4             2 -122.306426  47.545739         5   17700      17700  1807429   \n",
       "\n",
       "    STATUS      ADDRTYPE   INTKEY  ... ROADCOND                LIGHTCOND  \\\n",
       "0  Matched  Intersection  37475.0  ...      Wet                 Daylight   \n",
       "1  Matched         Block      NaN  ...      Wet  Dark - Street Lights On   \n",
       "2  Matched         Block      NaN  ...      Dry                 Daylight   \n",
       "3  Matched         Block      NaN  ...      Dry                 Daylight   \n",
       "4  Matched  Intersection  34387.0  ...      Wet                 Daylight   \n",
       "\n",
       "  PEDROWNOTGRNT  SDOTCOLNUM SPEEDING ST_COLCODE  \\\n",
       "0           NaN         NaN      NaN         10   \n",
       "1           NaN   6354039.0      NaN         11   \n",
       "2           NaN   4323031.0      NaN         32   \n",
       "3           NaN         NaN      NaN         23   \n",
       "4           NaN   4028032.0      NaN         10   \n",
       "\n",
       "                                          ST_COLDESC  SEGLANEKEY  \\\n",
       "0                                  Entering at angle           0   \n",
       "1  From same direction - both going straight - bo...           0   \n",
       "2                             One parked--one moving           0   \n",
       "3                   From same direction - all others           0   \n",
       "4                                  Entering at angle           0   \n",
       "\n",
       "   CROSSWALKKEY  HITPARKEDCAR  \n",
       "0             0             N  \n",
       "1             0             N  \n",
       "2             0             N  \n",
       "3             0             N  \n",
       "4             0             N  \n",
       "\n",
       "[5 rows x 38 columns]"
      ]
     },
     "execution_count": 151,
     "metadata": {},
     "output_type": "execute_result"
    }
   ],
   "source": [
    "df = pd.read_csv('/Users/carlopeano/Desktop/projects/Coursera_Capstone/Data_Collisions.csv')\n",
    "df.head()"
   ]
  },
  {
   "cell_type": "code",
   "execution_count": 152,
   "metadata": {
    "scrolled": true
   },
   "outputs": [
    {
     "data": {
      "text/plain": [
       "(194673, 38)"
      ]
     },
     "execution_count": 152,
     "metadata": {},
     "output_type": "execute_result"
    }
   ],
   "source": [
    "df.shape"
   ]
  },
  {
   "cell_type": "markdown",
   "metadata": {},
   "source": [
    "Thanks to the description of the attributes that is available together wtih the dataset ([3](#notes)), we have been able to define what - in our opinion - are the best independent variables and their dependent variable.\n",
    "\n",
    "The scope of the project is to predict the likelihood and severity of an accident. Therefore, it becomes obvious that we use SEVERITYCODE (i.e. the severity of the accident) as the dependent variable. SEVERITYCODE is a categorical variable and follows a code that corresponds to the severity of the collision: 2 (injury) and 1 (property damage).\n",
    "\n",
    "Out of the 37 attributes available in Seattle accident dataset, we start considering 8 of them as independent variables, thanks to their logical connection to the objective of our research study.\n",
    "\n",
    "| VARIABLE | DESCRIPTION |\n",
    "| :-:  | :-:  |\n",
    "| PERSONCOUNT | The total number of people involved in the collision |\n",
    "| VEHCOUNT | The number of vehicles involved in the collision. This is entered by the state|\n",
    "| JUNCTIONTYPE |Category of junction at which collision took place |\n",
    "| WEATHER | A description of the weather conditions during the time of the collision|\n",
    "| ROADCOND | The condition of the road during the collision|\n",
    "| LIGHTCOND | The light conditions during the collision|\n",
    "| SPEEDING | Whether or not speeding was a factor in the collision|\n",
    "|LOCATION|Description of the general location of the collision|\n",
    "\n",
    "JUNCTION, WEATHER, ROADCOND, and LIGHTCOND are the main attributes since they are directly connected to our objective that is the prediction of an accident based on the conditions of the weather and road.\n",
    "\n",
    "PERSONCOUNT and VEHCOUNT makes us understand how big the accident can be. An accident can involve a lot of cars and people without necessarily and still have a low severity.\n",
    "\n",
    "SPEEDING has a direct impact on the probability of the collision and is the only attribute that is actually a choise of the driver. \n",
    "\n",
    "Lastly, even though LOCATION is not good if we want to speak in a general way (therefore we do not utilize it in the general research), it is useful if we want to show the different level of danger in the districts of Seattle city."
   ]
  },
  {
   "cell_type": "markdown",
   "metadata": {},
   "source": [
    "### 2.2 Data Preparation"
   ]
  },
  {
   "cell_type": "markdown",
   "metadata": {},
   "source": [
    "At this point, we drop the columns that are not interesting for us, deal with the missing data (look for them, decide what method apply, etc...), control the data format, balancing the labeled data, transform the categorical variables in binary variables if needed, clean the dataset and normalise the data so as to be ready for the next phase - i.e. modeling."
   ]
  },
  {
   "cell_type": "markdown",
   "metadata": {},
   "source": [
    "### 2.2.1 Unnecessary Columns"
   ]
  },
  {
   "cell_type": "markdown",
   "metadata": {},
   "source": [
    "We drop the unnecessary columns."
   ]
  },
  {
   "cell_type": "code",
   "execution_count": 153,
   "metadata": {
    "scrolled": true
   },
   "outputs": [
    {
     "data": {
      "text/html": [
       "<div>\n",
       "<style scoped>\n",
       "    .dataframe tbody tr th:only-of-type {\n",
       "        vertical-align: middle;\n",
       "    }\n",
       "\n",
       "    .dataframe tbody tr th {\n",
       "        vertical-align: top;\n",
       "    }\n",
       "\n",
       "    .dataframe thead th {\n",
       "        text-align: right;\n",
       "    }\n",
       "</style>\n",
       "<table border=\"1\" class=\"dataframe\">\n",
       "  <thead>\n",
       "    <tr style=\"text-align: right;\">\n",
       "      <th></th>\n",
       "      <th>SEVERITYCODE</th>\n",
       "      <th>LOCATION</th>\n",
       "      <th>PERSONCOUNT</th>\n",
       "      <th>VEHCOUNT</th>\n",
       "      <th>JUNCTIONTYPE</th>\n",
       "      <th>WEATHER</th>\n",
       "      <th>ROADCOND</th>\n",
       "      <th>LIGHTCOND</th>\n",
       "      <th>SPEEDING</th>\n",
       "    </tr>\n",
       "  </thead>\n",
       "  <tbody>\n",
       "    <tr>\n",
       "      <th>0</th>\n",
       "      <td>2</td>\n",
       "      <td>5TH AVE NE AND NE 103RD ST</td>\n",
       "      <td>2</td>\n",
       "      <td>2</td>\n",
       "      <td>At Intersection (intersection related)</td>\n",
       "      <td>Overcast</td>\n",
       "      <td>Wet</td>\n",
       "      <td>Daylight</td>\n",
       "      <td>NaN</td>\n",
       "    </tr>\n",
       "    <tr>\n",
       "      <th>1</th>\n",
       "      <td>1</td>\n",
       "      <td>AURORA BR BETWEEN RAYE ST AND BRIDGE WAY N</td>\n",
       "      <td>2</td>\n",
       "      <td>2</td>\n",
       "      <td>Mid-Block (not related to intersection)</td>\n",
       "      <td>Raining</td>\n",
       "      <td>Wet</td>\n",
       "      <td>Dark - Street Lights On</td>\n",
       "      <td>NaN</td>\n",
       "    </tr>\n",
       "  </tbody>\n",
       "</table>\n",
       "</div>"
      ],
      "text/plain": [
       "   SEVERITYCODE                                    LOCATION  PERSONCOUNT  \\\n",
       "0             2                  5TH AVE NE AND NE 103RD ST            2   \n",
       "1             1  AURORA BR BETWEEN RAYE ST AND BRIDGE WAY N            2   \n",
       "\n",
       "   VEHCOUNT                             JUNCTIONTYPE   WEATHER ROADCOND  \\\n",
       "0         2   At Intersection (intersection related)  Overcast      Wet   \n",
       "1         2  Mid-Block (not related to intersection)   Raining      Wet   \n",
       "\n",
       "                 LIGHTCOND SPEEDING  \n",
       "0                 Daylight      NaN  \n",
       "1  Dark - Street Lights On      NaN  "
      ]
     },
     "execution_count": 153,
     "metadata": {},
     "output_type": "execute_result"
    }
   ],
   "source": [
    "df.drop(['X','Y','OBJECTID','INCKEY','COLDETKEY','REPORTNO','STATUS','SEVERITYCODE.1','SEVERITYDESC','COLLISIONTYPE','PEDCOUNT','PEDCYLCOUNT','ADDRTYPE', 'INTKEY','EXCEPTRSNCODE','EXCEPTRSNDESC','INCDATE','INCDTTM','SDOT_COLCODE','SDOT_COLDESC','INATTENTIONIND','UNDERINFL','PEDROWNOTGRNT','SDOTCOLNUM','ST_COLCODE','ST_COLDESC','SEGLANEKEY','CROSSWALKKEY','HITPARKEDCAR'], axis=1, inplace=True)\n",
    "df.head(2)"
   ]
  },
  {
   "cell_type": "code",
   "execution_count": 154,
   "metadata": {},
   "outputs": [
    {
     "data": {
      "text/plain": [
       "(194673, 9)"
      ]
     },
     "execution_count": 154,
     "metadata": {},
     "output_type": "execute_result"
    }
   ],
   "source": [
    "df.shape"
   ]
  },
  {
   "cell_type": "code",
   "execution_count": 155,
   "metadata": {},
   "outputs": [
    {
     "data": {
      "text/html": [
       "<div>\n",
       "<style scoped>\n",
       "    .dataframe tbody tr th:only-of-type {\n",
       "        vertical-align: middle;\n",
       "    }\n",
       "\n",
       "    .dataframe tbody tr th {\n",
       "        vertical-align: top;\n",
       "    }\n",
       "\n",
       "    .dataframe thead th {\n",
       "        text-align: right;\n",
       "    }\n",
       "</style>\n",
       "<table border=\"1\" class=\"dataframe\">\n",
       "  <thead>\n",
       "    <tr style=\"text-align: right;\">\n",
       "      <th></th>\n",
       "      <th>SEVERITYCODE</th>\n",
       "      <th>LOCATION</th>\n",
       "      <th>PERSONCOUNT</th>\n",
       "      <th>VEHCOUNT</th>\n",
       "      <th>JUNCTIONTYPE</th>\n",
       "      <th>WEATHER</th>\n",
       "      <th>ROADCOND</th>\n",
       "      <th>LIGHTCOND</th>\n",
       "      <th>SPEEDING</th>\n",
       "    </tr>\n",
       "  </thead>\n",
       "  <tbody>\n",
       "    <tr>\n",
       "      <th>count</th>\n",
       "      <td>194673.000000</td>\n",
       "      <td>191996</td>\n",
       "      <td>194673.000000</td>\n",
       "      <td>194673.000000</td>\n",
       "      <td>188344</td>\n",
       "      <td>189592</td>\n",
       "      <td>189661</td>\n",
       "      <td>189503</td>\n",
       "      <td>9333</td>\n",
       "    </tr>\n",
       "    <tr>\n",
       "      <th>unique</th>\n",
       "      <td>NaN</td>\n",
       "      <td>24102</td>\n",
       "      <td>NaN</td>\n",
       "      <td>NaN</td>\n",
       "      <td>7</td>\n",
       "      <td>11</td>\n",
       "      <td>9</td>\n",
       "      <td>9</td>\n",
       "      <td>1</td>\n",
       "    </tr>\n",
       "    <tr>\n",
       "      <th>top</th>\n",
       "      <td>NaN</td>\n",
       "      <td>BATTERY ST TUNNEL NB BETWEEN ALASKAN WY VI NB ...</td>\n",
       "      <td>NaN</td>\n",
       "      <td>NaN</td>\n",
       "      <td>Mid-Block (not related to intersection)</td>\n",
       "      <td>Clear</td>\n",
       "      <td>Dry</td>\n",
       "      <td>Daylight</td>\n",
       "      <td>Y</td>\n",
       "    </tr>\n",
       "    <tr>\n",
       "      <th>freq</th>\n",
       "      <td>NaN</td>\n",
       "      <td>276</td>\n",
       "      <td>NaN</td>\n",
       "      <td>NaN</td>\n",
       "      <td>89800</td>\n",
       "      <td>111135</td>\n",
       "      <td>124510</td>\n",
       "      <td>116137</td>\n",
       "      <td>9333</td>\n",
       "    </tr>\n",
       "    <tr>\n",
       "      <th>mean</th>\n",
       "      <td>1.298901</td>\n",
       "      <td>NaN</td>\n",
       "      <td>2.444427</td>\n",
       "      <td>1.920780</td>\n",
       "      <td>NaN</td>\n",
       "      <td>NaN</td>\n",
       "      <td>NaN</td>\n",
       "      <td>NaN</td>\n",
       "      <td>NaN</td>\n",
       "    </tr>\n",
       "    <tr>\n",
       "      <th>std</th>\n",
       "      <td>0.457778</td>\n",
       "      <td>NaN</td>\n",
       "      <td>1.345929</td>\n",
       "      <td>0.631047</td>\n",
       "      <td>NaN</td>\n",
       "      <td>NaN</td>\n",
       "      <td>NaN</td>\n",
       "      <td>NaN</td>\n",
       "      <td>NaN</td>\n",
       "    </tr>\n",
       "    <tr>\n",
       "      <th>min</th>\n",
       "      <td>1.000000</td>\n",
       "      <td>NaN</td>\n",
       "      <td>0.000000</td>\n",
       "      <td>0.000000</td>\n",
       "      <td>NaN</td>\n",
       "      <td>NaN</td>\n",
       "      <td>NaN</td>\n",
       "      <td>NaN</td>\n",
       "      <td>NaN</td>\n",
       "    </tr>\n",
       "    <tr>\n",
       "      <th>25%</th>\n",
       "      <td>1.000000</td>\n",
       "      <td>NaN</td>\n",
       "      <td>2.000000</td>\n",
       "      <td>2.000000</td>\n",
       "      <td>NaN</td>\n",
       "      <td>NaN</td>\n",
       "      <td>NaN</td>\n",
       "      <td>NaN</td>\n",
       "      <td>NaN</td>\n",
       "    </tr>\n",
       "    <tr>\n",
       "      <th>50%</th>\n",
       "      <td>1.000000</td>\n",
       "      <td>NaN</td>\n",
       "      <td>2.000000</td>\n",
       "      <td>2.000000</td>\n",
       "      <td>NaN</td>\n",
       "      <td>NaN</td>\n",
       "      <td>NaN</td>\n",
       "      <td>NaN</td>\n",
       "      <td>NaN</td>\n",
       "    </tr>\n",
       "    <tr>\n",
       "      <th>75%</th>\n",
       "      <td>2.000000</td>\n",
       "      <td>NaN</td>\n",
       "      <td>3.000000</td>\n",
       "      <td>2.000000</td>\n",
       "      <td>NaN</td>\n",
       "      <td>NaN</td>\n",
       "      <td>NaN</td>\n",
       "      <td>NaN</td>\n",
       "      <td>NaN</td>\n",
       "    </tr>\n",
       "    <tr>\n",
       "      <th>max</th>\n",
       "      <td>2.000000</td>\n",
       "      <td>NaN</td>\n",
       "      <td>81.000000</td>\n",
       "      <td>12.000000</td>\n",
       "      <td>NaN</td>\n",
       "      <td>NaN</td>\n",
       "      <td>NaN</td>\n",
       "      <td>NaN</td>\n",
       "      <td>NaN</td>\n",
       "    </tr>\n",
       "  </tbody>\n",
       "</table>\n",
       "</div>"
      ],
      "text/plain": [
       "         SEVERITYCODE                                           LOCATION  \\\n",
       "count   194673.000000                                             191996   \n",
       "unique            NaN                                              24102   \n",
       "top               NaN  BATTERY ST TUNNEL NB BETWEEN ALASKAN WY VI NB ...   \n",
       "freq              NaN                                                276   \n",
       "mean         1.298901                                                NaN   \n",
       "std          0.457778                                                NaN   \n",
       "min          1.000000                                                NaN   \n",
       "25%          1.000000                                                NaN   \n",
       "50%          1.000000                                                NaN   \n",
       "75%          2.000000                                                NaN   \n",
       "max          2.000000                                                NaN   \n",
       "\n",
       "          PERSONCOUNT       VEHCOUNT                             JUNCTIONTYPE  \\\n",
       "count   194673.000000  194673.000000                                   188344   \n",
       "unique            NaN            NaN                                        7   \n",
       "top               NaN            NaN  Mid-Block (not related to intersection)   \n",
       "freq              NaN            NaN                                    89800   \n",
       "mean         2.444427       1.920780                                      NaN   \n",
       "std          1.345929       0.631047                                      NaN   \n",
       "min          0.000000       0.000000                                      NaN   \n",
       "25%          2.000000       2.000000                                      NaN   \n",
       "50%          2.000000       2.000000                                      NaN   \n",
       "75%          3.000000       2.000000                                      NaN   \n",
       "max         81.000000      12.000000                                      NaN   \n",
       "\n",
       "       WEATHER ROADCOND LIGHTCOND SPEEDING  \n",
       "count   189592   189661    189503     9333  \n",
       "unique      11        9         9        1  \n",
       "top      Clear      Dry  Daylight        Y  \n",
       "freq    111135   124510    116137     9333  \n",
       "mean       NaN      NaN       NaN      NaN  \n",
       "std        NaN      NaN       NaN      NaN  \n",
       "min        NaN      NaN       NaN      NaN  \n",
       "25%        NaN      NaN       NaN      NaN  \n",
       "50%        NaN      NaN       NaN      NaN  \n",
       "75%        NaN      NaN       NaN      NaN  \n",
       "max        NaN      NaN       NaN      NaN  "
      ]
     },
     "execution_count": 155,
     "metadata": {},
     "output_type": "execute_result"
    }
   ],
   "source": [
    "df.describe(include = \"all\")"
   ]
  },
  {
   "cell_type": "markdown",
   "metadata": {},
   "source": [
    "### 2.2.2 Evaluating for Missing Data"
   ]
  },
  {
   "cell_type": "code",
   "execution_count": 156,
   "metadata": {},
   "outputs": [
    {
     "data": {
      "text/html": [
       "<div>\n",
       "<style scoped>\n",
       "    .dataframe tbody tr th:only-of-type {\n",
       "        vertical-align: middle;\n",
       "    }\n",
       "\n",
       "    .dataframe tbody tr th {\n",
       "        vertical-align: top;\n",
       "    }\n",
       "\n",
       "    .dataframe thead th {\n",
       "        text-align: right;\n",
       "    }\n",
       "</style>\n",
       "<table border=\"1\" class=\"dataframe\">\n",
       "  <thead>\n",
       "    <tr style=\"text-align: right;\">\n",
       "      <th></th>\n",
       "      <th>SEVERITYCODE</th>\n",
       "      <th>LOCATION</th>\n",
       "      <th>PERSONCOUNT</th>\n",
       "      <th>VEHCOUNT</th>\n",
       "      <th>JUNCTIONTYPE</th>\n",
       "      <th>WEATHER</th>\n",
       "      <th>ROADCOND</th>\n",
       "      <th>LIGHTCOND</th>\n",
       "      <th>SPEEDING</th>\n",
       "    </tr>\n",
       "  </thead>\n",
       "  <tbody>\n",
       "    <tr>\n",
       "      <th>0</th>\n",
       "      <td>False</td>\n",
       "      <td>False</td>\n",
       "      <td>False</td>\n",
       "      <td>False</td>\n",
       "      <td>False</td>\n",
       "      <td>False</td>\n",
       "      <td>False</td>\n",
       "      <td>False</td>\n",
       "      <td>True</td>\n",
       "    </tr>\n",
       "    <tr>\n",
       "      <th>1</th>\n",
       "      <td>False</td>\n",
       "      <td>False</td>\n",
       "      <td>False</td>\n",
       "      <td>False</td>\n",
       "      <td>False</td>\n",
       "      <td>False</td>\n",
       "      <td>False</td>\n",
       "      <td>False</td>\n",
       "      <td>True</td>\n",
       "    </tr>\n",
       "    <tr>\n",
       "      <th>2</th>\n",
       "      <td>False</td>\n",
       "      <td>False</td>\n",
       "      <td>False</td>\n",
       "      <td>False</td>\n",
       "      <td>False</td>\n",
       "      <td>False</td>\n",
       "      <td>False</td>\n",
       "      <td>False</td>\n",
       "      <td>True</td>\n",
       "    </tr>\n",
       "    <tr>\n",
       "      <th>3</th>\n",
       "      <td>False</td>\n",
       "      <td>False</td>\n",
       "      <td>False</td>\n",
       "      <td>False</td>\n",
       "      <td>False</td>\n",
       "      <td>False</td>\n",
       "      <td>False</td>\n",
       "      <td>False</td>\n",
       "      <td>True</td>\n",
       "    </tr>\n",
       "    <tr>\n",
       "      <th>4</th>\n",
       "      <td>False</td>\n",
       "      <td>False</td>\n",
       "      <td>False</td>\n",
       "      <td>False</td>\n",
       "      <td>False</td>\n",
       "      <td>False</td>\n",
       "      <td>False</td>\n",
       "      <td>False</td>\n",
       "      <td>True</td>\n",
       "    </tr>\n",
       "  </tbody>\n",
       "</table>\n",
       "</div>"
      ],
      "text/plain": [
       "   SEVERITYCODE  LOCATION  PERSONCOUNT  VEHCOUNT  JUNCTIONTYPE  WEATHER  \\\n",
       "0         False     False        False     False         False    False   \n",
       "1         False     False        False     False         False    False   \n",
       "2         False     False        False     False         False    False   \n",
       "3         False     False        False     False         False    False   \n",
       "4         False     False        False     False         False    False   \n",
       "\n",
       "   ROADCOND  LIGHTCOND  SPEEDING  \n",
       "0     False      False      True  \n",
       "1     False      False      True  \n",
       "2     False      False      True  \n",
       "3     False      False      True  \n",
       "4     False      False      True  "
      ]
     },
     "execution_count": 156,
     "metadata": {},
     "output_type": "execute_result"
    }
   ],
   "source": [
    "missing_data = df.isnull()\n",
    "missing_data.head(5)"
   ]
  },
  {
   "cell_type": "markdown",
   "metadata": {},
   "source": [
    "\"True\" stands for missing value, while \"False\" stands for not missing value."
   ]
  },
  {
   "cell_type": "code",
   "execution_count": 157,
   "metadata": {
    "scrolled": true
   },
   "outputs": [
    {
     "name": "stdout",
     "output_type": "stream",
     "text": [
      "SEVERITYCODE\n",
      "False    194673\n",
      "Name: SEVERITYCODE, dtype: int64\n",
      "\n",
      "LOCATION\n",
      "False    191996\n",
      "True       2677\n",
      "Name: LOCATION, dtype: int64\n",
      "\n",
      "PERSONCOUNT\n",
      "False    194673\n",
      "Name: PERSONCOUNT, dtype: int64\n",
      "\n",
      "VEHCOUNT\n",
      "False    194673\n",
      "Name: VEHCOUNT, dtype: int64\n",
      "\n",
      "JUNCTIONTYPE\n",
      "False    188344\n",
      "True       6329\n",
      "Name: JUNCTIONTYPE, dtype: int64\n",
      "\n",
      "WEATHER\n",
      "False    189592\n",
      "True       5081\n",
      "Name: WEATHER, dtype: int64\n",
      "\n",
      "ROADCOND\n",
      "False    189661\n",
      "True       5012\n",
      "Name: ROADCOND, dtype: int64\n",
      "\n",
      "LIGHTCOND\n",
      "False    189503\n",
      "True       5170\n",
      "Name: LIGHTCOND, dtype: int64\n",
      "\n",
      "SPEEDING\n",
      "True     185340\n",
      "False      9333\n",
      "Name: SPEEDING, dtype: int64\n",
      "\n"
     ]
    }
   ],
   "source": [
    "for column in missing_data.columns.values.tolist():\n",
    "    print(column)\n",
    "    print (missing_data[column].value_counts())\n",
    "    print(\"\")"
   ]
  },
  {
   "cell_type": "markdown",
   "metadata": {},
   "source": [
    "Based on the summary above, eight columns contain missing data:\n",
    "1. \"SPEEDING\" has 185340 missing data\n",
    "2. \"JUNCTIONTYPE\" has 6329 missing data\n",
    "3. \"WEATHER\" has 5081 missing data\n",
    "4. \"ROADCOND\" has 5012 missing data\n",
    "5. \"LIGHTCOND\" has 5170 missing data\n",
    "6. \"PERSONCOUNT\" has 0 missing data\n",
    "7. \"VEHCOUNT\" has 0 missing data\n",
    "8. \"LOCATION\" has 2677 missing data\n",
    "\n",
    "Furthermore:\n",
    "1. \"JUNCTIONTYPE\" has 9 \"Unknown\"\n",
    "2. \"WEATHER\" has 832 \"Other\" and 15091 \"Unknown\"\n",
    "3. \"ROADCOND\" has 132 \"Other\" and 11012 \"Unknown\"\n",
    "4. \"LIGHTCOND\" has 235 \"Other\" and 13473 \"Unknown\"\n",
    "5. \"PERSONCOUNT\" has 5544 incidents involving 0 people\n",
    "6. \"VEHCOUNT\" has 5085 accidents involving 0 vehicles\n"
   ]
  },
  {
   "cell_type": "markdown",
   "metadata": {},
   "source": [
    "### 2.2.3 Dealing with missing data\n",
    "\n",
    "Considering the attributes that could be interesting for us, we take the following actions:"
   ]
  },
  {
   "cell_type": "markdown",
   "metadata": {},
   "source": [
    "#### \"SPEEDING\"\n",
    "\n",
    "* Action:\n",
    "    * Replace the missing data with \"N\" \n",
    "    * Replace \"N\" and \"Y\" with 0 and 1\n",
    "* Reason: \n",
    "    * SPD recorded the data only when it was a factor of an accident (\"Y\"), otherwise they left it empty (SPD did never write \"N\"). Therefore, the missing data can be considered as those incidents when speeding was not a factor. This means that all the missing data can be actually filled with \"N\"."
   ]
  },
  {
   "cell_type": "code",
   "execution_count": 158,
   "metadata": {
    "scrolled": true
   },
   "outputs": [
    {
     "data": {
      "text/plain": [
       "0    185340\n",
       "1      9333\n",
       "Name: SPEEDING, dtype: int64"
      ]
     },
     "execution_count": 158,
     "metadata": {},
     "output_type": "execute_result"
    }
   ],
   "source": [
    "df['SPEEDING'].replace(np.nan, \"N\", inplace=True)\n",
    "df['SPEEDING'].replace(to_replace=['N','Y'], value=[0,1],inplace=True)\n",
    "df['SPEEDING'].value_counts()"
   ]
  },
  {
   "cell_type": "markdown",
   "metadata": {},
   "source": [
    "#### \"LOCATION\"\n",
    "* Action:\n",
    "   * simply delete the whole rows of missing data\n",
    "* Reason: \n",
    "   * Delete the missing data so as to avoid biasing the dataset"
   ]
  },
  {
   "cell_type": "code",
   "execution_count": 159,
   "metadata": {},
   "outputs": [
    {
     "data": {
      "text/plain": [
       "(191996, 9)"
      ]
     },
     "execution_count": 159,
     "metadata": {},
     "output_type": "execute_result"
    }
   ],
   "source": [
    "#Drop the missing data in LOCATION\n",
    "\n",
    "df.dropna(subset=['LOCATION'], axis=0, inplace=True)\n",
    "df[['LOCATION']].isnull().sum(axis = 0)\n",
    "df.shape"
   ]
  },
  {
   "cell_type": "markdown",
   "metadata": {},
   "source": [
    "#### \"JUNCTIONTYPE\"\n",
    "* Action:\n",
    "    * simply delete the whole rows of missing data\n",
    "    * Replace \"Unknown\" with the mode\n",
    "* Reason:\n",
    "    * Delete the missing data so as to avoid biasing the dataset\n",
    "    * The mode already represents a high percentage of the data and replacing \"Unknown\" with the mode is the best solution\n",
    "    \n",
    "#### \"WEATHER\"\n",
    "* Action:\n",
    "    * simply delete the whole rows of \"Other\" and missing data\n",
    "    * Replace \"Unknown\" with the mode\n",
    "* Reason:  \n",
    "    * Delete the missing data and \"Other\"  so as to avoid biasing the dataset\n",
    "    * The mode already represents a high percentage of the data and replacing \"Unknown\" with the mode is the best solution\n",
    "\n",
    "#### \"ROADCOND\"\n",
    "* Action:\n",
    "    * simply delete the whole rows of \"Other\" and missing data\n",
    "    * Replace \"Unknown\" with the mode\n",
    "* Reason:  \n",
    "    * Delete the missing data and \"Other\"  so as to avoid biasing the dataset\n",
    "    * The mode already represents a high percentage of the data and replacing \"Unknown\" with the mode is the best solution\n",
    "    \n",
    "#### \"LIGHTCOND\"\n",
    "* Action:\n",
    "    * simply delete the whole rows of \"Other\" and missing data\n",
    "    * Replace \"Unknown\" with the mode\n",
    "* Reason:\n",
    "    * Delete the missing data and \"Other\"  so as to avoid biasing the dataset\n",
    "    * The mode already represents a high percentage of the data and replacing \"Unknown\" with the mode is the best solution"
   ]
  },
  {
   "cell_type": "code",
   "execution_count": 160,
   "metadata": {},
   "outputs": [],
   "source": [
    "# replace \"Other\" to NaN\n",
    "df.replace(\"Other\", np.nan, inplace = True)"
   ]
  },
  {
   "cell_type": "code",
   "execution_count": 161,
   "metadata": {},
   "outputs": [
    {
     "data": {
      "text/plain": [
       "(181628, 9)"
      ]
     },
     "execution_count": 161,
     "metadata": {},
     "output_type": "execute_result"
    }
   ],
   "source": [
    "# Eliminate nan in 'JUNCTIONTYPE', 'WEATHER', 'ROADCOND','LIGHTCOND'\n",
    "df.dropna(subset=['JUNCTIONTYPE', 'WEATHER', 'ROADCOND','LIGHTCOND'], axis=0, inplace=True)\n",
    "df[['JUNCTIONTYPE', 'WEATHER', 'ROADCOND','LIGHTCOND']].isnull().sum(axis = 0)\n",
    "df.shape"
   ]
  },
  {
   "cell_type": "code",
   "execution_count": 162,
   "metadata": {
    "scrolled": true
   },
   "outputs": [],
   "source": [
    "# Replace \"Unknown\" with the mode in 'JUNCTIONTYPE', 'WEATHER', 'ROADCOND','LIGHTCOND' \n",
    "df['JUNCTIONTYPE'] = df['JUNCTIONTYPE'].replace(['Unknown'],df['JUNCTIONTYPE'].mode())\n",
    "df['WEATHER'] = df['WEATHER'].replace(['Unknown'],df['WEATHER'].mode())\n",
    "df['ROADCOND'] = df['ROADCOND'].replace(['Unknown'],df['ROADCOND'].mode())\n",
    "df['LIGHTCOND'] = df['LIGHTCOND'].replace(['Unknown'],df['LIGHTCOND'].mode())"
   ]
  },
  {
   "cell_type": "code",
   "execution_count": 163,
   "metadata": {},
   "outputs": [
    {
     "data": {
      "text/html": [
       "<div>\n",
       "<style scoped>\n",
       "    .dataframe tbody tr th:only-of-type {\n",
       "        vertical-align: middle;\n",
       "    }\n",
       "\n",
       "    .dataframe tbody tr th {\n",
       "        vertical-align: top;\n",
       "    }\n",
       "\n",
       "    .dataframe thead th {\n",
       "        text-align: right;\n",
       "    }\n",
       "</style>\n",
       "<table border=\"1\" class=\"dataframe\">\n",
       "  <thead>\n",
       "    <tr style=\"text-align: right;\">\n",
       "      <th></th>\n",
       "      <th>SEVERITYCODE</th>\n",
       "      <th>PERSONCOUNT</th>\n",
       "      <th>VEHCOUNT</th>\n",
       "      <th>SPEEDING</th>\n",
       "    </tr>\n",
       "  </thead>\n",
       "  <tbody>\n",
       "    <tr>\n",
       "      <th>count</th>\n",
       "      <td>181628.000000</td>\n",
       "      <td>181628.000000</td>\n",
       "      <td>181628.000000</td>\n",
       "      <td>181628.000000</td>\n",
       "    </tr>\n",
       "    <tr>\n",
       "      <th>mean</th>\n",
       "      <td>1.310552</td>\n",
       "      <td>2.479007</td>\n",
       "      <td>1.972543</td>\n",
       "      <td>0.050179</td>\n",
       "    </tr>\n",
       "    <tr>\n",
       "      <th>std</th>\n",
       "      <td>0.462721</td>\n",
       "      <td>1.372985</td>\n",
       "      <td>0.563615</td>\n",
       "      <td>0.218316</td>\n",
       "    </tr>\n",
       "    <tr>\n",
       "      <th>min</th>\n",
       "      <td>1.000000</td>\n",
       "      <td>0.000000</td>\n",
       "      <td>0.000000</td>\n",
       "      <td>0.000000</td>\n",
       "    </tr>\n",
       "    <tr>\n",
       "      <th>25%</th>\n",
       "      <td>1.000000</td>\n",
       "      <td>2.000000</td>\n",
       "      <td>2.000000</td>\n",
       "      <td>0.000000</td>\n",
       "    </tr>\n",
       "    <tr>\n",
       "      <th>50%</th>\n",
       "      <td>1.000000</td>\n",
       "      <td>2.000000</td>\n",
       "      <td>2.000000</td>\n",
       "      <td>0.000000</td>\n",
       "    </tr>\n",
       "    <tr>\n",
       "      <th>75%</th>\n",
       "      <td>2.000000</td>\n",
       "      <td>3.000000</td>\n",
       "      <td>2.000000</td>\n",
       "      <td>0.000000</td>\n",
       "    </tr>\n",
       "    <tr>\n",
       "      <th>max</th>\n",
       "      <td>2.000000</td>\n",
       "      <td>81.000000</td>\n",
       "      <td>12.000000</td>\n",
       "      <td>1.000000</td>\n",
       "    </tr>\n",
       "  </tbody>\n",
       "</table>\n",
       "</div>"
      ],
      "text/plain": [
       "        SEVERITYCODE    PERSONCOUNT       VEHCOUNT       SPEEDING\n",
       "count  181628.000000  181628.000000  181628.000000  181628.000000\n",
       "mean        1.310552       2.479007       1.972543       0.050179\n",
       "std         0.462721       1.372985       0.563615       0.218316\n",
       "min         1.000000       0.000000       0.000000       0.000000\n",
       "25%         1.000000       2.000000       2.000000       0.000000\n",
       "50%         1.000000       2.000000       2.000000       0.000000\n",
       "75%         2.000000       3.000000       2.000000       0.000000\n",
       "max         2.000000      81.000000      12.000000       1.000000"
      ]
     },
     "execution_count": 163,
     "metadata": {},
     "output_type": "execute_result"
    }
   ],
   "source": [
    "df.describe()"
   ]
  },
  {
   "cell_type": "markdown",
   "metadata": {},
   "source": [
    "### 2.2.4 Dealing with Data and Project's Objective"
   ]
  },
  {
   "cell_type": "markdown",
   "metadata": {},
   "source": [
    "As the project's objective is to predict the probability and severity of an accident based on various factors, such as the conditions of weather and the road, we are interested in incidents involving at least a person and a car.\n",
    "\n",
    "Therefore, we need to drop those rows where people and cars involved are zero."
   ]
  },
  {
   "cell_type": "code",
   "execution_count": 164,
   "metadata": {
    "scrolled": true
   },
   "outputs": [],
   "source": [
    "#Drop the accidents with zero people involved\n",
    "\n",
    "# Get indexes where name column has value 0\n",
    "indexNames = df[df['PERSONCOUNT'] == 0].index\n",
    " \n",
    "# Delete these row indexes from dataFrame\n",
    "df.drop(indexNames , inplace=True)"
   ]
  },
  {
   "cell_type": "code",
   "execution_count": 165,
   "metadata": {
    "scrolled": true
   },
   "outputs": [],
   "source": [
    "#Drop the accidents with zero people involved\n",
    "\n",
    "# Get indexes where name column has value 0\n",
    "indexNames = df[df['VEHCOUNT'] == 0].index\n",
    " \n",
    "# Delete these row indexes from dataFrame\n",
    "df.drop(indexNames , inplace=True)"
   ]
  },
  {
   "cell_type": "code",
   "execution_count": 166,
   "metadata": {
    "scrolled": true
   },
   "outputs": [
    {
     "data": {
      "text/plain": [
       "(176098, 9)"
      ]
     },
     "execution_count": 166,
     "metadata": {},
     "output_type": "execute_result"
    }
   ],
   "source": [
    "df.shape"
   ]
  },
  {
   "cell_type": "markdown",
   "metadata": {},
   "source": [
    "### 2.2.5 Correct data format"
   ]
  },
  {
   "cell_type": "code",
   "execution_count": 167,
   "metadata": {
    "scrolled": true
   },
   "outputs": [
    {
     "data": {
      "text/plain": [
       "SEVERITYCODE     int64\n",
       "LOCATION        object\n",
       "PERSONCOUNT      int64\n",
       "VEHCOUNT         int64\n",
       "JUNCTIONTYPE    object\n",
       "WEATHER         object\n",
       "ROADCOND        object\n",
       "LIGHTCOND       object\n",
       "SPEEDING         int64\n",
       "dtype: object"
      ]
     },
     "execution_count": 167,
     "metadata": {},
     "output_type": "execute_result"
    }
   ],
   "source": [
    "df.dtypes"
   ]
  },
  {
   "cell_type": "markdown",
   "metadata": {},
   "source": [
    "Considering the data format of each attribute that we are going to use, we do not need to change any of them."
   ]
  },
  {
   "cell_type": "markdown",
   "metadata": {},
   "source": [
    "### 2.2.6 One hot encoding technique"
   ]
  },
  {
   "cell_type": "markdown",
   "metadata": {},
   "source": [
    "We use one hot encoding technique to convert categorical varables to binary variables and append them to the feature Data Frame."
   ]
  },
  {
   "cell_type": "code",
   "execution_count": 168,
   "metadata": {},
   "outputs": [
    {
     "data": {
      "text/html": [
       "<div>\n",
       "<style scoped>\n",
       "    .dataframe tbody tr th:only-of-type {\n",
       "        vertical-align: middle;\n",
       "    }\n",
       "\n",
       "    .dataframe tbody tr th {\n",
       "        vertical-align: top;\n",
       "    }\n",
       "\n",
       "    .dataframe thead th {\n",
       "        text-align: right;\n",
       "    }\n",
       "</style>\n",
       "<table border=\"1\" class=\"dataframe\">\n",
       "  <thead>\n",
       "    <tr style=\"text-align: right;\">\n",
       "      <th></th>\n",
       "      <th>SPEEDING</th>\n",
       "      <th>PERSONCOUNT</th>\n",
       "      <th>VEHCOUNT</th>\n",
       "      <th>At Intersection (but not related to intersection)</th>\n",
       "      <th>At Intersection (intersection related)</th>\n",
       "      <th>Driveway Junction</th>\n",
       "      <th>Mid-Block (but intersection related)</th>\n",
       "      <th>Mid-Block (not related to intersection)</th>\n",
       "      <th>Ramp Junction</th>\n",
       "      <th>Blowing Sand/Dirt</th>\n",
       "      <th>...</th>\n",
       "      <th>Snow/Slush</th>\n",
       "      <th>Standing Water</th>\n",
       "      <th>Wet</th>\n",
       "      <th>Dark - No Street Lights</th>\n",
       "      <th>Dark - Street Lights Off</th>\n",
       "      <th>Dark - Street Lights On</th>\n",
       "      <th>Dark - Unknown Lighting</th>\n",
       "      <th>Dawn</th>\n",
       "      <th>Daylight</th>\n",
       "      <th>Dusk</th>\n",
       "    </tr>\n",
       "  </thead>\n",
       "  <tbody>\n",
       "    <tr>\n",
       "      <th>0</th>\n",
       "      <td>0</td>\n",
       "      <td>2</td>\n",
       "      <td>2</td>\n",
       "      <td>0</td>\n",
       "      <td>1</td>\n",
       "      <td>0</td>\n",
       "      <td>0</td>\n",
       "      <td>0</td>\n",
       "      <td>0</td>\n",
       "      <td>0</td>\n",
       "      <td>...</td>\n",
       "      <td>0</td>\n",
       "      <td>0</td>\n",
       "      <td>1</td>\n",
       "      <td>0</td>\n",
       "      <td>0</td>\n",
       "      <td>0</td>\n",
       "      <td>0</td>\n",
       "      <td>0</td>\n",
       "      <td>1</td>\n",
       "      <td>0</td>\n",
       "    </tr>\n",
       "    <tr>\n",
       "      <th>1</th>\n",
       "      <td>0</td>\n",
       "      <td>2</td>\n",
       "      <td>2</td>\n",
       "      <td>0</td>\n",
       "      <td>0</td>\n",
       "      <td>0</td>\n",
       "      <td>0</td>\n",
       "      <td>1</td>\n",
       "      <td>0</td>\n",
       "      <td>0</td>\n",
       "      <td>...</td>\n",
       "      <td>0</td>\n",
       "      <td>0</td>\n",
       "      <td>1</td>\n",
       "      <td>0</td>\n",
       "      <td>0</td>\n",
       "      <td>1</td>\n",
       "      <td>0</td>\n",
       "      <td>0</td>\n",
       "      <td>0</td>\n",
       "      <td>0</td>\n",
       "    </tr>\n",
       "    <tr>\n",
       "      <th>2</th>\n",
       "      <td>0</td>\n",
       "      <td>4</td>\n",
       "      <td>3</td>\n",
       "      <td>0</td>\n",
       "      <td>0</td>\n",
       "      <td>0</td>\n",
       "      <td>0</td>\n",
       "      <td>1</td>\n",
       "      <td>0</td>\n",
       "      <td>0</td>\n",
       "      <td>...</td>\n",
       "      <td>0</td>\n",
       "      <td>0</td>\n",
       "      <td>0</td>\n",
       "      <td>0</td>\n",
       "      <td>0</td>\n",
       "      <td>0</td>\n",
       "      <td>0</td>\n",
       "      <td>0</td>\n",
       "      <td>1</td>\n",
       "      <td>0</td>\n",
       "    </tr>\n",
       "    <tr>\n",
       "      <th>3</th>\n",
       "      <td>0</td>\n",
       "      <td>3</td>\n",
       "      <td>3</td>\n",
       "      <td>0</td>\n",
       "      <td>0</td>\n",
       "      <td>0</td>\n",
       "      <td>0</td>\n",
       "      <td>1</td>\n",
       "      <td>0</td>\n",
       "      <td>0</td>\n",
       "      <td>...</td>\n",
       "      <td>0</td>\n",
       "      <td>0</td>\n",
       "      <td>0</td>\n",
       "      <td>0</td>\n",
       "      <td>0</td>\n",
       "      <td>0</td>\n",
       "      <td>0</td>\n",
       "      <td>0</td>\n",
       "      <td>1</td>\n",
       "      <td>0</td>\n",
       "    </tr>\n",
       "    <tr>\n",
       "      <th>4</th>\n",
       "      <td>0</td>\n",
       "      <td>2</td>\n",
       "      <td>2</td>\n",
       "      <td>0</td>\n",
       "      <td>1</td>\n",
       "      <td>0</td>\n",
       "      <td>0</td>\n",
       "      <td>0</td>\n",
       "      <td>0</td>\n",
       "      <td>0</td>\n",
       "      <td>...</td>\n",
       "      <td>0</td>\n",
       "      <td>0</td>\n",
       "      <td>1</td>\n",
       "      <td>0</td>\n",
       "      <td>0</td>\n",
       "      <td>0</td>\n",
       "      <td>0</td>\n",
       "      <td>0</td>\n",
       "      <td>1</td>\n",
       "      <td>0</td>\n",
       "    </tr>\n",
       "  </tbody>\n",
       "</table>\n",
       "<p>5 rows × 32 columns</p>\n",
       "</div>"
      ],
      "text/plain": [
       "   SPEEDING  PERSONCOUNT  VEHCOUNT  \\\n",
       "0         0            2         2   \n",
       "1         0            2         2   \n",
       "2         0            4         3   \n",
       "3         0            3         3   \n",
       "4         0            2         2   \n",
       "\n",
       "   At Intersection (but not related to intersection)  \\\n",
       "0                                                  0   \n",
       "1                                                  0   \n",
       "2                                                  0   \n",
       "3                                                  0   \n",
       "4                                                  0   \n",
       "\n",
       "   At Intersection (intersection related)  Driveway Junction  \\\n",
       "0                                       1                  0   \n",
       "1                                       0                  0   \n",
       "2                                       0                  0   \n",
       "3                                       0                  0   \n",
       "4                                       1                  0   \n",
       "\n",
       "   Mid-Block (but intersection related)  \\\n",
       "0                                     0   \n",
       "1                                     0   \n",
       "2                                     0   \n",
       "3                                     0   \n",
       "4                                     0   \n",
       "\n",
       "   Mid-Block (not related to intersection)  Ramp Junction  Blowing Sand/Dirt  \\\n",
       "0                                        0              0                  0   \n",
       "1                                        1              0                  0   \n",
       "2                                        1              0                  0   \n",
       "3                                        1              0                  0   \n",
       "4                                        0              0                  0   \n",
       "\n",
       "   ...  Snow/Slush  Standing Water  Wet  Dark - No Street Lights  \\\n",
       "0  ...           0               0    1                        0   \n",
       "1  ...           0               0    1                        0   \n",
       "2  ...           0               0    0                        0   \n",
       "3  ...           0               0    0                        0   \n",
       "4  ...           0               0    1                        0   \n",
       "\n",
       "   Dark - Street Lights Off  Dark - Street Lights On  Dark - Unknown Lighting  \\\n",
       "0                         0                        0                        0   \n",
       "1                         0                        1                        0   \n",
       "2                         0                        0                        0   \n",
       "3                         0                        0                        0   \n",
       "4                         0                        0                        0   \n",
       "\n",
       "   Dawn  Daylight  Dusk  \n",
       "0     0         1     0  \n",
       "1     0         0     0  \n",
       "2     0         1     0  \n",
       "3     0         1     0  \n",
       "4     0         1     0  \n",
       "\n",
       "[5 rows x 32 columns]"
      ]
     },
     "execution_count": 168,
     "metadata": {},
     "output_type": "execute_result"
    }
   ],
   "source": [
    "Feature = df[['SPEEDING','JUNCTIONTYPE', 'WEATHER', 'ROADCOND','LIGHTCOND', 'PERSONCOUNT', 'VEHCOUNT']]\n",
    "Feature = pd.concat([Feature,pd.get_dummies(df['JUNCTIONTYPE'])], axis=1)\n",
    "Feature = pd.concat([Feature,pd.get_dummies(df['WEATHER'])], axis=1)\n",
    "Feature = pd.concat([Feature,pd.get_dummies(df['ROADCOND'])], axis=1)\n",
    "Feature = pd.concat([Feature,pd.get_dummies(df['LIGHTCOND'])], axis=1)\n",
    "Feature.drop(['JUNCTIONTYPE', 'WEATHER', 'ROADCOND','LIGHTCOND'], axis = 1,inplace=True)\n",
    "Feature.head()"
   ]
  },
  {
   "cell_type": "markdown",
   "metadata": {},
   "source": [
    "### 2.2.7 Feature selection"
   ]
  },
  {
   "cell_type": "markdown",
   "metadata": {},
   "source": [
    "We define feature set X and the labels y"
   ]
  },
  {
   "cell_type": "code",
   "execution_count": 169,
   "metadata": {
    "scrolled": true
   },
   "outputs": [
    {
     "data": {
      "text/html": [
       "<div>\n",
       "<style scoped>\n",
       "    .dataframe tbody tr th:only-of-type {\n",
       "        vertical-align: middle;\n",
       "    }\n",
       "\n",
       "    .dataframe tbody tr th {\n",
       "        vertical-align: top;\n",
       "    }\n",
       "\n",
       "    .dataframe thead th {\n",
       "        text-align: right;\n",
       "    }\n",
       "</style>\n",
       "<table border=\"1\" class=\"dataframe\">\n",
       "  <thead>\n",
       "    <tr style=\"text-align: right;\">\n",
       "      <th></th>\n",
       "      <th>SPEEDING</th>\n",
       "      <th>PERSONCOUNT</th>\n",
       "      <th>VEHCOUNT</th>\n",
       "      <th>At Intersection (but not related to intersection)</th>\n",
       "      <th>At Intersection (intersection related)</th>\n",
       "      <th>Driveway Junction</th>\n",
       "      <th>Mid-Block (but intersection related)</th>\n",
       "      <th>Mid-Block (not related to intersection)</th>\n",
       "      <th>Ramp Junction</th>\n",
       "      <th>Blowing Sand/Dirt</th>\n",
       "      <th>...</th>\n",
       "      <th>Snow/Slush</th>\n",
       "      <th>Standing Water</th>\n",
       "      <th>Wet</th>\n",
       "      <th>Dark - No Street Lights</th>\n",
       "      <th>Dark - Street Lights Off</th>\n",
       "      <th>Dark - Street Lights On</th>\n",
       "      <th>Dark - Unknown Lighting</th>\n",
       "      <th>Dawn</th>\n",
       "      <th>Daylight</th>\n",
       "      <th>Dusk</th>\n",
       "    </tr>\n",
       "  </thead>\n",
       "  <tbody>\n",
       "    <tr>\n",
       "      <th>0</th>\n",
       "      <td>0</td>\n",
       "      <td>2</td>\n",
       "      <td>2</td>\n",
       "      <td>0</td>\n",
       "      <td>1</td>\n",
       "      <td>0</td>\n",
       "      <td>0</td>\n",
       "      <td>0</td>\n",
       "      <td>0</td>\n",
       "      <td>0</td>\n",
       "      <td>...</td>\n",
       "      <td>0</td>\n",
       "      <td>0</td>\n",
       "      <td>1</td>\n",
       "      <td>0</td>\n",
       "      <td>0</td>\n",
       "      <td>0</td>\n",
       "      <td>0</td>\n",
       "      <td>0</td>\n",
       "      <td>1</td>\n",
       "      <td>0</td>\n",
       "    </tr>\n",
       "    <tr>\n",
       "      <th>1</th>\n",
       "      <td>0</td>\n",
       "      <td>2</td>\n",
       "      <td>2</td>\n",
       "      <td>0</td>\n",
       "      <td>0</td>\n",
       "      <td>0</td>\n",
       "      <td>0</td>\n",
       "      <td>1</td>\n",
       "      <td>0</td>\n",
       "      <td>0</td>\n",
       "      <td>...</td>\n",
       "      <td>0</td>\n",
       "      <td>0</td>\n",
       "      <td>1</td>\n",
       "      <td>0</td>\n",
       "      <td>0</td>\n",
       "      <td>1</td>\n",
       "      <td>0</td>\n",
       "      <td>0</td>\n",
       "      <td>0</td>\n",
       "      <td>0</td>\n",
       "    </tr>\n",
       "    <tr>\n",
       "      <th>2</th>\n",
       "      <td>0</td>\n",
       "      <td>4</td>\n",
       "      <td>3</td>\n",
       "      <td>0</td>\n",
       "      <td>0</td>\n",
       "      <td>0</td>\n",
       "      <td>0</td>\n",
       "      <td>1</td>\n",
       "      <td>0</td>\n",
       "      <td>0</td>\n",
       "      <td>...</td>\n",
       "      <td>0</td>\n",
       "      <td>0</td>\n",
       "      <td>0</td>\n",
       "      <td>0</td>\n",
       "      <td>0</td>\n",
       "      <td>0</td>\n",
       "      <td>0</td>\n",
       "      <td>0</td>\n",
       "      <td>1</td>\n",
       "      <td>0</td>\n",
       "    </tr>\n",
       "    <tr>\n",
       "      <th>3</th>\n",
       "      <td>0</td>\n",
       "      <td>3</td>\n",
       "      <td>3</td>\n",
       "      <td>0</td>\n",
       "      <td>0</td>\n",
       "      <td>0</td>\n",
       "      <td>0</td>\n",
       "      <td>1</td>\n",
       "      <td>0</td>\n",
       "      <td>0</td>\n",
       "      <td>...</td>\n",
       "      <td>0</td>\n",
       "      <td>0</td>\n",
       "      <td>0</td>\n",
       "      <td>0</td>\n",
       "      <td>0</td>\n",
       "      <td>0</td>\n",
       "      <td>0</td>\n",
       "      <td>0</td>\n",
       "      <td>1</td>\n",
       "      <td>0</td>\n",
       "    </tr>\n",
       "    <tr>\n",
       "      <th>4</th>\n",
       "      <td>0</td>\n",
       "      <td>2</td>\n",
       "      <td>2</td>\n",
       "      <td>0</td>\n",
       "      <td>1</td>\n",
       "      <td>0</td>\n",
       "      <td>0</td>\n",
       "      <td>0</td>\n",
       "      <td>0</td>\n",
       "      <td>0</td>\n",
       "      <td>...</td>\n",
       "      <td>0</td>\n",
       "      <td>0</td>\n",
       "      <td>1</td>\n",
       "      <td>0</td>\n",
       "      <td>0</td>\n",
       "      <td>0</td>\n",
       "      <td>0</td>\n",
       "      <td>0</td>\n",
       "      <td>1</td>\n",
       "      <td>0</td>\n",
       "    </tr>\n",
       "  </tbody>\n",
       "</table>\n",
       "<p>5 rows × 32 columns</p>\n",
       "</div>"
      ],
      "text/plain": [
       "   SPEEDING  PERSONCOUNT  VEHCOUNT  \\\n",
       "0         0            2         2   \n",
       "1         0            2         2   \n",
       "2         0            4         3   \n",
       "3         0            3         3   \n",
       "4         0            2         2   \n",
       "\n",
       "   At Intersection (but not related to intersection)  \\\n",
       "0                                                  0   \n",
       "1                                                  0   \n",
       "2                                                  0   \n",
       "3                                                  0   \n",
       "4                                                  0   \n",
       "\n",
       "   At Intersection (intersection related)  Driveway Junction  \\\n",
       "0                                       1                  0   \n",
       "1                                       0                  0   \n",
       "2                                       0                  0   \n",
       "3                                       0                  0   \n",
       "4                                       1                  0   \n",
       "\n",
       "   Mid-Block (but intersection related)  \\\n",
       "0                                     0   \n",
       "1                                     0   \n",
       "2                                     0   \n",
       "3                                     0   \n",
       "4                                     0   \n",
       "\n",
       "   Mid-Block (not related to intersection)  Ramp Junction  Blowing Sand/Dirt  \\\n",
       "0                                        0              0                  0   \n",
       "1                                        1              0                  0   \n",
       "2                                        1              0                  0   \n",
       "3                                        1              0                  0   \n",
       "4                                        0              0                  0   \n",
       "\n",
       "   ...  Snow/Slush  Standing Water  Wet  Dark - No Street Lights  \\\n",
       "0  ...           0               0    1                        0   \n",
       "1  ...           0               0    1                        0   \n",
       "2  ...           0               0    0                        0   \n",
       "3  ...           0               0    0                        0   \n",
       "4  ...           0               0    1                        0   \n",
       "\n",
       "   Dark - Street Lights Off  Dark - Street Lights On  Dark - Unknown Lighting  \\\n",
       "0                         0                        0                        0   \n",
       "1                         0                        1                        0   \n",
       "2                         0                        0                        0   \n",
       "3                         0                        0                        0   \n",
       "4                         0                        0                        0   \n",
       "\n",
       "   Dawn  Daylight  Dusk  \n",
       "0     0         1     0  \n",
       "1     0         0     0  \n",
       "2     0         1     0  \n",
       "3     0         1     0  \n",
       "4     0         1     0  \n",
       "\n",
       "[5 rows x 32 columns]"
      ]
     },
     "execution_count": 169,
     "metadata": {},
     "output_type": "execute_result"
    }
   ],
   "source": [
    "X = Feature\n",
    "X[0:5]"
   ]
  },
  {
   "cell_type": "code",
   "execution_count": 170,
   "metadata": {},
   "outputs": [
    {
     "data": {
      "text/html": [
       "<div>\n",
       "<style scoped>\n",
       "    .dataframe tbody tr th:only-of-type {\n",
       "        vertical-align: middle;\n",
       "    }\n",
       "\n",
       "    .dataframe tbody tr th {\n",
       "        vertical-align: top;\n",
       "    }\n",
       "\n",
       "    .dataframe thead th {\n",
       "        text-align: right;\n",
       "    }\n",
       "</style>\n",
       "<table border=\"1\" class=\"dataframe\">\n",
       "  <thead>\n",
       "    <tr style=\"text-align: right;\">\n",
       "      <th></th>\n",
       "      <th>SPEEDING</th>\n",
       "      <th>PERSONCOUNT</th>\n",
       "      <th>VEHCOUNT</th>\n",
       "      <th>At Intersection (but not related to intersection)</th>\n",
       "      <th>At Intersection (intersection related)</th>\n",
       "      <th>Driveway Junction</th>\n",
       "      <th>Mid-Block (but intersection related)</th>\n",
       "      <th>Mid-Block (not related to intersection)</th>\n",
       "      <th>Ramp Junction</th>\n",
       "      <th>Blowing Sand/Dirt</th>\n",
       "      <th>...</th>\n",
       "      <th>Snow/Slush</th>\n",
       "      <th>Standing Water</th>\n",
       "      <th>Wet</th>\n",
       "      <th>Dark - No Street Lights</th>\n",
       "      <th>Dark - Street Lights Off</th>\n",
       "      <th>Dark - Street Lights On</th>\n",
       "      <th>Dark - Unknown Lighting</th>\n",
       "      <th>Dawn</th>\n",
       "      <th>Daylight</th>\n",
       "      <th>Dusk</th>\n",
       "    </tr>\n",
       "  </thead>\n",
       "  <tbody>\n",
       "    <tr>\n",
       "      <th>count</th>\n",
       "      <td>176098.000000</td>\n",
       "      <td>176098.000000</td>\n",
       "      <td>176098.000000</td>\n",
       "      <td>176098.000000</td>\n",
       "      <td>176098.00000</td>\n",
       "      <td>176098.000000</td>\n",
       "      <td>176098.000000</td>\n",
       "      <td>176098.000000</td>\n",
       "      <td>176098.000000</td>\n",
       "      <td>176098.000000</td>\n",
       "      <td>...</td>\n",
       "      <td>176098.000000</td>\n",
       "      <td>176098.000000</td>\n",
       "      <td>176098.000000</td>\n",
       "      <td>176098.000000</td>\n",
       "      <td>176098.000000</td>\n",
       "      <td>176098.000000</td>\n",
       "      <td>176098.000000</td>\n",
       "      <td>176098.000000</td>\n",
       "      <td>176098.000000</td>\n",
       "      <td>176098.000000</td>\n",
       "    </tr>\n",
       "    <tr>\n",
       "      <th>mean</th>\n",
       "      <td>0.051613</td>\n",
       "      <td>2.555270</td>\n",
       "      <td>1.974338</td>\n",
       "      <td>0.011022</td>\n",
       "      <td>0.33554</td>\n",
       "      <td>0.057667</td>\n",
       "      <td>0.124238</td>\n",
       "      <td>0.470653</td>\n",
       "      <td>0.000880</td>\n",
       "      <td>0.000273</td>\n",
       "      <td>...</td>\n",
       "      <td>0.005417</td>\n",
       "      <td>0.000579</td>\n",
       "      <td>0.258169</td>\n",
       "      <td>0.007888</td>\n",
       "      <td>0.006388</td>\n",
       "      <td>0.262394</td>\n",
       "      <td>0.000051</td>\n",
       "      <td>0.013385</td>\n",
       "      <td>0.678168</td>\n",
       "      <td>0.031727</td>\n",
       "    </tr>\n",
       "    <tr>\n",
       "      <th>std</th>\n",
       "      <td>0.221246</td>\n",
       "      <td>1.323148</td>\n",
       "      <td>0.559305</td>\n",
       "      <td>0.104407</td>\n",
       "      <td>0.47218</td>\n",
       "      <td>0.233113</td>\n",
       "      <td>0.329853</td>\n",
       "      <td>0.499139</td>\n",
       "      <td>0.029655</td>\n",
       "      <td>0.016508</td>\n",
       "      <td>...</td>\n",
       "      <td>0.073404</td>\n",
       "      <td>0.024060</td>\n",
       "      <td>0.437629</td>\n",
       "      <td>0.088462</td>\n",
       "      <td>0.079673</td>\n",
       "      <td>0.439937</td>\n",
       "      <td>0.007149</td>\n",
       "      <td>0.114915</td>\n",
       "      <td>0.467180</td>\n",
       "      <td>0.175272</td>\n",
       "    </tr>\n",
       "    <tr>\n",
       "      <th>min</th>\n",
       "      <td>0.000000</td>\n",
       "      <td>1.000000</td>\n",
       "      <td>1.000000</td>\n",
       "      <td>0.000000</td>\n",
       "      <td>0.00000</td>\n",
       "      <td>0.000000</td>\n",
       "      <td>0.000000</td>\n",
       "      <td>0.000000</td>\n",
       "      <td>0.000000</td>\n",
       "      <td>0.000000</td>\n",
       "      <td>...</td>\n",
       "      <td>0.000000</td>\n",
       "      <td>0.000000</td>\n",
       "      <td>0.000000</td>\n",
       "      <td>0.000000</td>\n",
       "      <td>0.000000</td>\n",
       "      <td>0.000000</td>\n",
       "      <td>0.000000</td>\n",
       "      <td>0.000000</td>\n",
       "      <td>0.000000</td>\n",
       "      <td>0.000000</td>\n",
       "    </tr>\n",
       "    <tr>\n",
       "      <th>25%</th>\n",
       "      <td>0.000000</td>\n",
       "      <td>2.000000</td>\n",
       "      <td>2.000000</td>\n",
       "      <td>0.000000</td>\n",
       "      <td>0.00000</td>\n",
       "      <td>0.000000</td>\n",
       "      <td>0.000000</td>\n",
       "      <td>0.000000</td>\n",
       "      <td>0.000000</td>\n",
       "      <td>0.000000</td>\n",
       "      <td>...</td>\n",
       "      <td>0.000000</td>\n",
       "      <td>0.000000</td>\n",
       "      <td>0.000000</td>\n",
       "      <td>0.000000</td>\n",
       "      <td>0.000000</td>\n",
       "      <td>0.000000</td>\n",
       "      <td>0.000000</td>\n",
       "      <td>0.000000</td>\n",
       "      <td>0.000000</td>\n",
       "      <td>0.000000</td>\n",
       "    </tr>\n",
       "    <tr>\n",
       "      <th>50%</th>\n",
       "      <td>0.000000</td>\n",
       "      <td>2.000000</td>\n",
       "      <td>2.000000</td>\n",
       "      <td>0.000000</td>\n",
       "      <td>0.00000</td>\n",
       "      <td>0.000000</td>\n",
       "      <td>0.000000</td>\n",
       "      <td>0.000000</td>\n",
       "      <td>0.000000</td>\n",
       "      <td>0.000000</td>\n",
       "      <td>...</td>\n",
       "      <td>0.000000</td>\n",
       "      <td>0.000000</td>\n",
       "      <td>0.000000</td>\n",
       "      <td>0.000000</td>\n",
       "      <td>0.000000</td>\n",
       "      <td>0.000000</td>\n",
       "      <td>0.000000</td>\n",
       "      <td>0.000000</td>\n",
       "      <td>1.000000</td>\n",
       "      <td>0.000000</td>\n",
       "    </tr>\n",
       "    <tr>\n",
       "      <th>75%</th>\n",
       "      <td>0.000000</td>\n",
       "      <td>3.000000</td>\n",
       "      <td>2.000000</td>\n",
       "      <td>0.000000</td>\n",
       "      <td>1.00000</td>\n",
       "      <td>0.000000</td>\n",
       "      <td>0.000000</td>\n",
       "      <td>1.000000</td>\n",
       "      <td>0.000000</td>\n",
       "      <td>0.000000</td>\n",
       "      <td>...</td>\n",
       "      <td>0.000000</td>\n",
       "      <td>0.000000</td>\n",
       "      <td>1.000000</td>\n",
       "      <td>0.000000</td>\n",
       "      <td>0.000000</td>\n",
       "      <td>1.000000</td>\n",
       "      <td>0.000000</td>\n",
       "      <td>0.000000</td>\n",
       "      <td>1.000000</td>\n",
       "      <td>0.000000</td>\n",
       "    </tr>\n",
       "    <tr>\n",
       "      <th>max</th>\n",
       "      <td>1.000000</td>\n",
       "      <td>81.000000</td>\n",
       "      <td>12.000000</td>\n",
       "      <td>1.000000</td>\n",
       "      <td>1.00000</td>\n",
       "      <td>1.000000</td>\n",
       "      <td>1.000000</td>\n",
       "      <td>1.000000</td>\n",
       "      <td>1.000000</td>\n",
       "      <td>1.000000</td>\n",
       "      <td>...</td>\n",
       "      <td>1.000000</td>\n",
       "      <td>1.000000</td>\n",
       "      <td>1.000000</td>\n",
       "      <td>1.000000</td>\n",
       "      <td>1.000000</td>\n",
       "      <td>1.000000</td>\n",
       "      <td>1.000000</td>\n",
       "      <td>1.000000</td>\n",
       "      <td>1.000000</td>\n",
       "      <td>1.000000</td>\n",
       "    </tr>\n",
       "  </tbody>\n",
       "</table>\n",
       "<p>8 rows × 32 columns</p>\n",
       "</div>"
      ],
      "text/plain": [
       "            SPEEDING    PERSONCOUNT       VEHCOUNT  \\\n",
       "count  176098.000000  176098.000000  176098.000000   \n",
       "mean        0.051613       2.555270       1.974338   \n",
       "std         0.221246       1.323148       0.559305   \n",
       "min         0.000000       1.000000       1.000000   \n",
       "25%         0.000000       2.000000       2.000000   \n",
       "50%         0.000000       2.000000       2.000000   \n",
       "75%         0.000000       3.000000       2.000000   \n",
       "max         1.000000      81.000000      12.000000   \n",
       "\n",
       "       At Intersection (but not related to intersection)  \\\n",
       "count                                      176098.000000   \n",
       "mean                                            0.011022   \n",
       "std                                             0.104407   \n",
       "min                                             0.000000   \n",
       "25%                                             0.000000   \n",
       "50%                                             0.000000   \n",
       "75%                                             0.000000   \n",
       "max                                             1.000000   \n",
       "\n",
       "       At Intersection (intersection related)  Driveway Junction  \\\n",
       "count                            176098.00000      176098.000000   \n",
       "mean                                  0.33554           0.057667   \n",
       "std                                   0.47218           0.233113   \n",
       "min                                   0.00000           0.000000   \n",
       "25%                                   0.00000           0.000000   \n",
       "50%                                   0.00000           0.000000   \n",
       "75%                                   1.00000           0.000000   \n",
       "max                                   1.00000           1.000000   \n",
       "\n",
       "       Mid-Block (but intersection related)  \\\n",
       "count                         176098.000000   \n",
       "mean                               0.124238   \n",
       "std                                0.329853   \n",
       "min                                0.000000   \n",
       "25%                                0.000000   \n",
       "50%                                0.000000   \n",
       "75%                                0.000000   \n",
       "max                                1.000000   \n",
       "\n",
       "       Mid-Block (not related to intersection)  Ramp Junction  \\\n",
       "count                            176098.000000  176098.000000   \n",
       "mean                                  0.470653       0.000880   \n",
       "std                                   0.499139       0.029655   \n",
       "min                                   0.000000       0.000000   \n",
       "25%                                   0.000000       0.000000   \n",
       "50%                                   0.000000       0.000000   \n",
       "75%                                   1.000000       0.000000   \n",
       "max                                   1.000000       1.000000   \n",
       "\n",
       "       Blowing Sand/Dirt  ...     Snow/Slush  Standing Water            Wet  \\\n",
       "count      176098.000000  ...  176098.000000   176098.000000  176098.000000   \n",
       "mean            0.000273  ...       0.005417        0.000579       0.258169   \n",
       "std             0.016508  ...       0.073404        0.024060       0.437629   \n",
       "min             0.000000  ...       0.000000        0.000000       0.000000   \n",
       "25%             0.000000  ...       0.000000        0.000000       0.000000   \n",
       "50%             0.000000  ...       0.000000        0.000000       0.000000   \n",
       "75%             0.000000  ...       0.000000        0.000000       1.000000   \n",
       "max             1.000000  ...       1.000000        1.000000       1.000000   \n",
       "\n",
       "       Dark - No Street Lights  Dark - Street Lights Off  \\\n",
       "count            176098.000000             176098.000000   \n",
       "mean                  0.007888                  0.006388   \n",
       "std                   0.088462                  0.079673   \n",
       "min                   0.000000                  0.000000   \n",
       "25%                   0.000000                  0.000000   \n",
       "50%                   0.000000                  0.000000   \n",
       "75%                   0.000000                  0.000000   \n",
       "max                   1.000000                  1.000000   \n",
       "\n",
       "       Dark - Street Lights On  Dark - Unknown Lighting           Dawn  \\\n",
       "count            176098.000000            176098.000000  176098.000000   \n",
       "mean                  0.262394                 0.000051       0.013385   \n",
       "std                   0.439937                 0.007149       0.114915   \n",
       "min                   0.000000                 0.000000       0.000000   \n",
       "25%                   0.000000                 0.000000       0.000000   \n",
       "50%                   0.000000                 0.000000       0.000000   \n",
       "75%                   1.000000                 0.000000       0.000000   \n",
       "max                   1.000000                 1.000000       1.000000   \n",
       "\n",
       "            Daylight           Dusk  \n",
       "count  176098.000000  176098.000000  \n",
       "mean        0.678168       0.031727  \n",
       "std         0.467180       0.175272  \n",
       "min         0.000000       0.000000  \n",
       "25%         0.000000       0.000000  \n",
       "50%         1.000000       0.000000  \n",
       "75%         1.000000       0.000000  \n",
       "max         1.000000       1.000000  \n",
       "\n",
       "[8 rows x 32 columns]"
      ]
     },
     "execution_count": 170,
     "metadata": {},
     "output_type": "execute_result"
    }
   ],
   "source": [
    "X.describe()"
   ]
  },
  {
   "cell_type": "code",
   "execution_count": 171,
   "metadata": {},
   "outputs": [
    {
     "data": {
      "text/plain": [
       "array([2, 1, 1, 1, 2])"
      ]
     },
     "execution_count": 171,
     "metadata": {},
     "output_type": "execute_result"
    }
   ],
   "source": [
    "y = df['SEVERITYCODE'].values\n",
    "y[0:5]"
   ]
  },
  {
   "cell_type": "markdown",
   "metadata": {},
   "source": [
    "Now we have a cleaned and balanced dataset and we can finally normalise the data."
   ]
  },
  {
   "cell_type": "markdown",
   "metadata": {},
   "source": [
    "### 2.2.8 Normalize Data"
   ]
  },
  {
   "cell_type": "code",
   "execution_count": 172,
   "metadata": {},
   "outputs": [
    {
     "data": {
      "text/plain": [
       "array([[-0.2332857 , -0.4196598 ,  0.0458818 , -0.10557043,  1.4072195 ,\n",
       "        -0.24737767, -0.37664609, -0.94293104, -0.02968109, -0.01651211,\n",
       "        -1.39487249, -0.05494336,  2.37791899, -0.00532861, -0.46890302,\n",
       "        -0.01191581, -0.0245418 , -0.0702587 , -1.63878024, -0.08075644,\n",
       "        -0.01815132, -0.01876701, -0.07380343, -0.02407402,  1.6951211 ,\n",
       "        -0.08916481, -0.08018456, -0.5964367 , -0.00714916, -0.1164739 ,\n",
       "         0.68888404, -0.1810144 ],\n",
       "       [-0.2332857 , -0.4196598 ,  0.0458818 , -0.10557043, -0.71062119,\n",
       "        -0.24737767, -0.37664609,  1.06052295, -0.02968109, -0.01651211,\n",
       "        -1.39487249, -0.05494336, -0.42053577, -0.00532861,  2.13263713,\n",
       "        -0.01191581, -0.0245418 , -0.0702587 , -1.63878024, -0.08075644,\n",
       "        -0.01815132, -0.01876701, -0.07380343, -0.02407402,  1.6951211 ,\n",
       "        -0.08916481, -0.08018456,  1.67662387, -0.00714916, -0.1164739 ,\n",
       "        -1.45162311, -0.1810144 ],\n",
       "       [-0.2332857 ,  1.09189144,  1.83382005, -0.10557043, -0.71062119,\n",
       "        -0.24737767, -0.37664609,  1.06052295, -0.02968109, -0.01651211,\n",
       "        -1.39487249, -0.05494336,  2.37791899, -0.00532861, -0.46890302,\n",
       "        -0.01191581, -0.0245418 , -0.0702587 ,  0.61020995, -0.08075644,\n",
       "        -0.01815132, -0.01876701, -0.07380343, -0.02407402, -0.58992835,\n",
       "        -0.08916481, -0.08018456, -0.5964367 , -0.00714916, -0.1164739 ,\n",
       "         0.68888404, -0.1810144 ],\n",
       "       [-0.2332857 ,  0.33611582,  1.83382005, -0.10557043, -0.71062119,\n",
       "        -0.24737767, -0.37664609,  1.06052295, -0.02968109, -0.01651211,\n",
       "         0.71691141, -0.05494336, -0.42053577, -0.00532861, -0.46890302,\n",
       "        -0.01191581, -0.0245418 , -0.0702587 ,  0.61020995, -0.08075644,\n",
       "        -0.01815132, -0.01876701, -0.07380343, -0.02407402, -0.58992835,\n",
       "        -0.08916481, -0.08018456, -0.5964367 , -0.00714916, -0.1164739 ,\n",
       "         0.68888404, -0.1810144 ],\n",
       "       [-0.2332857 , -0.4196598 ,  0.0458818 , -0.10557043,  1.4072195 ,\n",
       "        -0.24737767, -0.37664609, -0.94293104, -0.02968109, -0.01651211,\n",
       "        -1.39487249, -0.05494336, -0.42053577, -0.00532861,  2.13263713,\n",
       "        -0.01191581, -0.0245418 , -0.0702587 , -1.63878024, -0.08075644,\n",
       "        -0.01815132, -0.01876701, -0.07380343, -0.02407402,  1.6951211 ,\n",
       "        -0.08916481, -0.08018456, -0.5964367 , -0.00714916, -0.1164739 ,\n",
       "         0.68888404, -0.1810144 ]])"
      ]
     },
     "execution_count": 172,
     "metadata": {},
     "output_type": "execute_result"
    }
   ],
   "source": [
    "X= preprocessing.StandardScaler().fit(X).transform(X)\n",
    "X[0:5]"
   ]
  },
  {
   "cell_type": "markdown",
   "metadata": {},
   "source": [
    "Now we are finally ready for the next phase that is modeling."
   ]
  },
  {
   "cell_type": "markdown",
   "metadata": {},
   "source": [
    "## 3. Exploratory Data Analysis"
   ]
  },
  {
   "cell_type": "code",
   "execution_count": 173,
   "metadata": {},
   "outputs": [
    {
     "data": {
      "text/html": [
       "<div>\n",
       "<style scoped>\n",
       "    .dataframe tbody tr th:only-of-type {\n",
       "        vertical-align: middle;\n",
       "    }\n",
       "\n",
       "    .dataframe tbody tr th {\n",
       "        vertical-align: top;\n",
       "    }\n",
       "\n",
       "    .dataframe thead th {\n",
       "        text-align: right;\n",
       "    }\n",
       "</style>\n",
       "<table border=\"1\" class=\"dataframe\">\n",
       "  <thead>\n",
       "    <tr style=\"text-align: right;\">\n",
       "      <th></th>\n",
       "      <th>LOCATION</th>\n",
       "      <th>JUNCTIONTYPE</th>\n",
       "      <th>WEATHER</th>\n",
       "      <th>ROADCOND</th>\n",
       "      <th>LIGHTCOND</th>\n",
       "    </tr>\n",
       "  </thead>\n",
       "  <tbody>\n",
       "    <tr>\n",
       "      <th>count</th>\n",
       "      <td>176098</td>\n",
       "      <td>176098</td>\n",
       "      <td>176098</td>\n",
       "      <td>176098</td>\n",
       "      <td>176098</td>\n",
       "    </tr>\n",
       "    <tr>\n",
       "      <th>unique</th>\n",
       "      <td>23410</td>\n",
       "      <td>6</td>\n",
       "      <td>9</td>\n",
       "      <td>7</td>\n",
       "      <td>7</td>\n",
       "    </tr>\n",
       "    <tr>\n",
       "      <th>top</th>\n",
       "      <td>N NORTHGATE WAY BETWEEN MERIDIAN AVE N AND COR...</td>\n",
       "      <td>Mid-Block (not related to intersection)</td>\n",
       "      <td>Clear</td>\n",
       "      <td>Dry</td>\n",
       "      <td>Daylight</td>\n",
       "    </tr>\n",
       "    <tr>\n",
       "      <th>freq</th>\n",
       "      <td>252</td>\n",
       "      <td>82881</td>\n",
       "      <td>116316</td>\n",
       "      <td>128318</td>\n",
       "      <td>119424</td>\n",
       "    </tr>\n",
       "  </tbody>\n",
       "</table>\n",
       "</div>"
      ],
      "text/plain": [
       "                                                 LOCATION  \\\n",
       "count                                              176098   \n",
       "unique                                              23410   \n",
       "top     N NORTHGATE WAY BETWEEN MERIDIAN AVE N AND COR...   \n",
       "freq                                                  252   \n",
       "\n",
       "                                   JUNCTIONTYPE WEATHER ROADCOND LIGHTCOND  \n",
       "count                                    176098  176098   176098    176098  \n",
       "unique                                        6       9        7         7  \n",
       "top     Mid-Block (not related to intersection)   Clear      Dry  Daylight  \n",
       "freq                                      82881  116316   128318    119424  "
      ]
     },
     "execution_count": 173,
     "metadata": {},
     "output_type": "execute_result"
    }
   ],
   "source": [
    "df.describe(include=['object'])"
   ]
  },
  {
   "cell_type": "markdown",
   "metadata": {},
   "source": [
    "### 3.1 Relation between street junction and accidents"
   ]
  },
  {
   "cell_type": "code",
   "execution_count": 241,
   "metadata": {},
   "outputs": [
    {
     "data": {
      "text/html": [
       "<div>\n",
       "<style scoped>\n",
       "    .dataframe tbody tr th:only-of-type {\n",
       "        vertical-align: middle;\n",
       "    }\n",
       "\n",
       "    .dataframe tbody tr th {\n",
       "        vertical-align: top;\n",
       "    }\n",
       "\n",
       "    .dataframe thead th {\n",
       "        text-align: right;\n",
       "    }\n",
       "</style>\n",
       "<table border=\"1\" class=\"dataframe\">\n",
       "  <thead>\n",
       "    <tr style=\"text-align: right;\">\n",
       "      <th></th>\n",
       "      <th>accidents</th>\n",
       "    </tr>\n",
       "    <tr>\n",
       "      <th>junction_type</th>\n",
       "      <th></th>\n",
       "    </tr>\n",
       "  </thead>\n",
       "  <tbody>\n",
       "    <tr>\n",
       "      <th>Mid-Block (not related to intersection)</th>\n",
       "      <td>82881</td>\n",
       "    </tr>\n",
       "    <tr>\n",
       "      <th>At Intersection (intersection related)</th>\n",
       "      <td>59088</td>\n",
       "    </tr>\n",
       "    <tr>\n",
       "      <th>Mid-Block (but intersection related)</th>\n",
       "      <td>21878</td>\n",
       "    </tr>\n",
       "    <tr>\n",
       "      <th>Driveway Junction</th>\n",
       "      <td>10155</td>\n",
       "    </tr>\n",
       "    <tr>\n",
       "      <th>At Intersection (but not related to intersection)</th>\n",
       "      <td>1941</td>\n",
       "    </tr>\n",
       "    <tr>\n",
       "      <th>Ramp Junction</th>\n",
       "      <td>155</td>\n",
       "    </tr>\n",
       "  </tbody>\n",
       "</table>\n",
       "</div>"
      ],
      "text/plain": [
       "                                                   accidents\n",
       "junction_type                                               \n",
       "Mid-Block (not related to intersection)                82881\n",
       "At Intersection (intersection related)                 59088\n",
       "Mid-Block (but intersection related)                   21878\n",
       "Driveway Junction                                      10155\n",
       "At Intersection (but not related to intersection)       1941\n",
       "Ramp Junction                                            155"
      ]
     },
     "execution_count": 241,
     "metadata": {},
     "output_type": "execute_result"
    }
   ],
   "source": [
    "junctiontype_counts = df[\"JUNCTIONTYPE\"].value_counts().to_frame()\n",
    "junctiontype_counts.rename(columns={'JUNCTIONTYPE': 'accidents'}, inplace=True)\n",
    "junctiontype_counts.index.name = 'junction_type'\n",
    "junctiontype_counts"
   ]
  },
  {
   "cell_type": "code",
   "execution_count": 175,
   "metadata": {
    "scrolled": false
   },
   "outputs": [
    {
     "data": {
      "text/plain": [
       "Text(0.5, 1.0, 'Relation between street junction and accidents')"
      ]
     },
     "execution_count": 175,
     "metadata": {},
     "output_type": "execute_result"
    },
    {
     "data": {
      "image/png": "[encoded data removed]",
      "text/plain": [
       "<Figure size 864x720 with 1 Axes>"
      ]
     },
     "metadata": {
      "needs_background": "light"
     },
     "output_type": "display_data"
    }
   ],
   "source": [
    "plt.figure(figsize=(12,10))\n",
    "\n",
    "plt.hist(df[\"JUNCTIONTYPE\"], alpha=0.5, histtype='stepfilled', color='steelblue', edgecolor='none')\n",
    "\n",
    "plt.xticks(rotation=90)\n",
    "plt.xlabel(\"Junction\") \n",
    "plt.ylabel(\"Accidents\") \n",
    "plt.title(\"Relation between street junction and accidents\")"
   ]
  },
  {
   "cell_type": "code",
   "execution_count": 263,
   "metadata": {},
   "outputs": [
    {
     "data": {
      "text/html": [
       "<div>\n",
       "<style scoped>\n",
       "    .dataframe tbody tr th:only-of-type {\n",
       "        vertical-align: middle;\n",
       "    }\n",
       "\n",
       "    .dataframe tbody tr th {\n",
       "        vertical-align: top;\n",
       "    }\n",
       "\n",
       "    .dataframe thead th {\n",
       "        text-align: right;\n",
       "    }\n",
       "</style>\n",
       "<table border=\"1\" class=\"dataframe\">\n",
       "  <thead>\n",
       "    <tr style=\"text-align: right;\">\n",
       "      <th></th>\n",
       "      <th>%_accidents</th>\n",
       "    </tr>\n",
       "    <tr>\n",
       "      <th>junction_type</th>\n",
       "      <th></th>\n",
       "    </tr>\n",
       "  </thead>\n",
       "  <tbody>\n",
       "    <tr>\n",
       "      <th>Mid-Block (not related to intersection)</th>\n",
       "      <td>47.07</td>\n",
       "    </tr>\n",
       "    <tr>\n",
       "      <th>At Intersection (intersection related)</th>\n",
       "      <td>33.55</td>\n",
       "    </tr>\n",
       "    <tr>\n",
       "      <th>Mid-Block (but intersection related)</th>\n",
       "      <td>12.42</td>\n",
       "    </tr>\n",
       "    <tr>\n",
       "      <th>Driveway Junction</th>\n",
       "      <td>5.77</td>\n",
       "    </tr>\n",
       "    <tr>\n",
       "      <th>At Intersection (but not related to intersection)</th>\n",
       "      <td>1.10</td>\n",
       "    </tr>\n",
       "    <tr>\n",
       "      <th>Ramp Junction</th>\n",
       "      <td>0.09</td>\n",
       "    </tr>\n",
       "  </tbody>\n",
       "</table>\n",
       "</div>"
      ],
      "text/plain": [
       "                                                   %_accidents\n",
       "junction_type                                                 \n",
       "Mid-Block (not related to intersection)                  47.07\n",
       "At Intersection (intersection related)                   33.55\n",
       "Mid-Block (but intersection related)                     12.42\n",
       "Driveway Junction                                         5.77\n",
       "At Intersection (but not related to intersection)         1.10\n",
       "Ramp Junction                                             0.09"
      ]
     },
     "execution_count": 263,
     "metadata": {},
     "output_type": "execute_result"
    }
   ],
   "source": [
    "y_jt=junctiontype_counts[\"accidents\"]\n",
    "x_jt=y_jt.sum(axis=0)\n",
    "junctiontype_counts['%_accidents'] = (y_jt / x_jt) * 100\n",
    "junctiontype_counts['%_accidents'].to_frame()\n",
    "jt_final=junctiontype_counts['%_accidents'].round(decimals=2)\n",
    "jt_final.to_frame()"
   ]
  },
  {
   "cell_type": "code",
   "execution_count": 277,
   "metadata": {},
   "outputs": [
    {
     "data": {
      "image/png": "[encoded data removed]",
      "text/plain": [
       "<Figure size 1440x576 with 1 Axes>"
      ]
     },
     "metadata": {},
     "output_type": "display_data"
    }
   ],
   "source": [
    "ax = jt_final.plot(kind='bar', figsize=(20, 8), color=('#5bc0de'),  width = 0.8, fontsize=16)\n",
    "\n",
    "\n",
    "sns.set_style('ticks')\n",
    "\n",
    "ax.set_title(\"Percentage of accidents in different junctions\", fontsize=16)\n",
    "\n",
    "ax.axes.get_yaxis().set_visible(False)\n",
    "    \n",
    "ax.spines['right'].set_visible(False)\n",
    "ax.spines['top'].set_visible(False)\n",
    "ax.spines['left'].set_visible(True)\n",
    "ax.spines['bottom'].set_visible(True)\n",
    "ax.set_facecolor('xkcd:white')\n",
    "\n",
    "    \n",
    "for i in ax.patches:\n",
    "    # get_x pulls left or right; get_height pushes up or down\n",
    "    ax.text(i.get_x()+0.3, i.get_height()+1, \\\n",
    "            str(round((i.get_height()), 2))+'%', fontsize=14, color='black')"
   ]
  },
  {
   "cell_type": "code",
   "execution_count": 176,
   "metadata": {},
   "outputs": [],
   "source": [
    "df_group_one = df[['JUNCTIONTYPE','WEATHER','SEVERITYCODE']]\n"
   ]
  },
  {
   "cell_type": "code",
   "execution_count": 284,
   "metadata": {
    "scrolled": true
   },
   "outputs": [
    {
     "data": {
      "text/html": [
       "<div>\n",
       "<style scoped>\n",
       "    .dataframe tbody tr th:only-of-type {\n",
       "        vertical-align: middle;\n",
       "    }\n",
       "\n",
       "    .dataframe tbody tr th {\n",
       "        vertical-align: top;\n",
       "    }\n",
       "\n",
       "    .dataframe thead th {\n",
       "        text-align: right;\n",
       "    }\n",
       "</style>\n",
       "<table border=\"1\" class=\"dataframe\">\n",
       "  <thead>\n",
       "    <tr style=\"text-align: right;\">\n",
       "      <th></th>\n",
       "      <th></th>\n",
       "      <th>accidents</th>\n",
       "    </tr>\n",
       "    <tr>\n",
       "      <th>JUNCTIONTYPE</th>\n",
       "      <th>SEVERITYCODE</th>\n",
       "      <th></th>\n",
       "    </tr>\n",
       "  </thead>\n",
       "  <tbody>\n",
       "    <tr>\n",
       "      <th rowspan=\"2\" valign=\"top\">At Intersection (but not related to intersection)</th>\n",
       "      <th>1</th>\n",
       "      <td>1362</td>\n",
       "    </tr>\n",
       "    <tr>\n",
       "      <th>2</th>\n",
       "      <td>579</td>\n",
       "    </tr>\n",
       "    <tr>\n",
       "      <th rowspan=\"2\" valign=\"top\">At Intersection (intersection related)</th>\n",
       "      <th>1</th>\n",
       "      <td>33325</td>\n",
       "    </tr>\n",
       "    <tr>\n",
       "      <th>2</th>\n",
       "      <td>25763</td>\n",
       "    </tr>\n",
       "    <tr>\n",
       "      <th rowspan=\"2\" valign=\"top\">Driveway Junction</th>\n",
       "      <th>1</th>\n",
       "      <td>7056</td>\n",
       "    </tr>\n",
       "    <tr>\n",
       "      <th>2</th>\n",
       "      <td>3099</td>\n",
       "    </tr>\n",
       "    <tr>\n",
       "      <th rowspan=\"2\" valign=\"top\">Mid-Block (but intersection related)</th>\n",
       "      <th>1</th>\n",
       "      <td>14827</td>\n",
       "    </tr>\n",
       "    <tr>\n",
       "      <th>2</th>\n",
       "      <td>7051</td>\n",
       "    </tr>\n",
       "    <tr>\n",
       "      <th rowspan=\"2\" valign=\"top\">Mid-Block (not related to intersection)</th>\n",
       "      <th>1</th>\n",
       "      <td>64928</td>\n",
       "    </tr>\n",
       "    <tr>\n",
       "      <th>2</th>\n",
       "      <td>17953</td>\n",
       "    </tr>\n",
       "    <tr>\n",
       "      <th rowspan=\"2\" valign=\"top\">Ramp Junction</th>\n",
       "      <th>1</th>\n",
       "      <td>107</td>\n",
       "    </tr>\n",
       "    <tr>\n",
       "      <th>2</th>\n",
       "      <td>48</td>\n",
       "    </tr>\n",
       "  </tbody>\n",
       "</table>\n",
       "</div>"
      ],
      "text/plain": [
       "                                                                accidents\n",
       "JUNCTIONTYPE                                      SEVERITYCODE           \n",
       "At Intersection (but not related to intersection) 1                  1362\n",
       "                                                  2                   579\n",
       "At Intersection (intersection related)            1                 33325\n",
       "                                                  2                 25763\n",
       "Driveway Junction                                 1                  7056\n",
       "                                                  2                  3099\n",
       "Mid-Block (but intersection related)              1                 14827\n",
       "                                                  2                  7051\n",
       "Mid-Block (not related to intersection)           1                 64928\n",
       "                                                  2                 17953\n",
       "Ramp Junction                                     1                   107\n",
       "                                                  2                    48"
      ]
     },
     "execution_count": 284,
     "metadata": {},
     "output_type": "execute_result"
    }
   ],
   "source": [
    "junction_sev = df.groupby(['JUNCTIONTYPE', 'SEVERITYCODE']).size().to_frame()\n",
    "junction_sev.rename(columns={0: 'accidents'}, inplace=True)\n",
    "junction_sev"
   ]
  },
  {
   "cell_type": "code",
   "execution_count": 218,
   "metadata": {},
   "outputs": [
    {
     "data": {
      "text/plain": [
       "([0, 1, 2, 3, 4, 5],\n",
       " [Text(0, 0, ''),\n",
       "  Text(0, 0, ''),\n",
       "  Text(0, 0, ''),\n",
       "  Text(0, 0, ''),\n",
       "  Text(0, 0, ''),\n",
       "  Text(0, 0, '')])"
      ]
     },
     "execution_count": 218,
     "metadata": {},
     "output_type": "execute_result"
    },
    {
     "data": {
      "image/png": "[encoded data removed]",
      "text/plain": [
       "<Figure size 720x720 with 1 Axes>"
      ]
     },
     "metadata": {},
     "output_type": "display_data"
    }
   ],
   "source": [
    "sns.set(style='ticks')\n",
    "plt.figure(figsize=(10, 10))\n",
    "\n",
    "sns.histplot(df, x=\"JUNCTIONTYPE\", hue=\"SEVERITYCODE\", multiple=\"stack\")\n",
    "plt.xticks(rotation=90)"
   ]
  },
  {
   "cell_type": "markdown",
   "metadata": {},
   "source": [
    "### 3.2. Relation between weather and accidents"
   ]
  },
  {
   "cell_type": "code",
   "execution_count": 29,
   "metadata": {
    "scrolled": false
   },
   "outputs": [
    {
     "data": {
      "text/plain": [
       "Text(0.5, 1.0, 'Relation between weather and accidents')"
      ]
     },
     "execution_count": 29,
     "metadata": {},
     "output_type": "execute_result"
    },
    {
     "data": {
      "image/png": "[encoded data removed]",
      "text/plain": [
       "<Figure size 864x720 with 1 Axes>"
      ]
     },
     "metadata": {
      "needs_background": "light"
     },
     "output_type": "display_data"
    }
   ],
   "source": [
    "plt.figure(figsize=(12,10))\n",
    "\n",
    "plt.hist(df[\"WEATHER\"], alpha=0.5, histtype='stepfilled', color='steelblue', edgecolor='none')\n",
    "\n",
    "plt.xticks(rotation=90)\n",
    "plt.xlabel(\"Weather\") \n",
    "plt.ylabel(\"Accidents\") \n",
    "plt.title(\"Relation between weather and accidents\")\n"
   ]
  },
  {
   "cell_type": "markdown",
   "metadata": {},
   "source": [
    "### 3.3. Relation between road condition and accidents"
   ]
  },
  {
   "cell_type": "code",
   "execution_count": 30,
   "metadata": {
    "scrolled": false
   },
   "outputs": [
    {
     "data": {
      "text/plain": [
       "Text(0.5, 1.0, 'Relation between road condition and accidents')"
      ]
     },
     "execution_count": 30,
     "metadata": {},
     "output_type": "execute_result"
    },
    {
     "data": {
      "image/png": "[encoded data removed]",
      "text/plain": [
       "<Figure size 864x720 with 1 Axes>"
      ]
     },
     "metadata": {
      "needs_background": "light"
     },
     "output_type": "display_data"
    }
   ],
   "source": [
    "plt.figure(figsize=(12,10))\n",
    "\n",
    "plt.hist(df[\"ROADCOND\"], alpha=0.5, histtype='stepfilled', color='steelblue', edgecolor='none')\n",
    "\n",
    "plt.xticks(rotation=90)\n",
    "plt.xlabel(\"road condition\") \n",
    "plt.ylabel(\"Accidents\") \n",
    "plt.title(\"Relation between road condition and accidents\")"
   ]
  },
  {
   "cell_type": "markdown",
   "metadata": {},
   "source": [
    "### 3.4. Relation between light condition and accidents"
   ]
  },
  {
   "cell_type": "code",
   "execution_count": 34,
   "metadata": {},
   "outputs": [
    {
     "data": {
      "text/plain": [
       "Text(0.5, 1.0, 'Relation between Light condition and accidents')"
      ]
     },
     "execution_count": 34,
     "metadata": {},
     "output_type": "execute_result"
    },
    {
     "data": {
      "image/png": "[encoded data removed]",
      "text/plain": [
       "<Figure size 864x720 with 1 Axes>"
      ]
     },
     "metadata": {
      "needs_background": "light"
     },
     "output_type": "display_data"
    }
   ],
   "source": [
    "plt.figure(figsize=(12,10))\n",
    "\n",
    "plt.hist(df[\"LIGHTCOND\"], alpha=0.5, histtype='stepfilled', color='steelblue', edgecolor='none')\n",
    "\n",
    "plt.xticks(rotation=90)\n",
    "plt.xlabel(\"Light condition\") \n",
    "plt.ylabel(\"Accidents\") \n",
    "plt.title(\"Relation between Light condition and accidents\")"
   ]
  },
  {
   "cell_type": "markdown",
   "metadata": {},
   "source": [
    "### 3.5. Relation between Number of people involved and accidents"
   ]
  },
  {
   "cell_type": "code",
   "execution_count": 45,
   "metadata": {},
   "outputs": [
    {
     "data": {
      "text/plain": [
       "<AxesSubplot:xlabel='SEVERITYCODE', ylabel='PERSONCOUNT'>"
      ]
     },
     "execution_count": 45,
     "metadata": {},
     "output_type": "execute_result"
    },
    {
     "data": {
      "image/png": "[encoded data removed]",
      "text/plain": [
       "<Figure size 720x864 with 1 Axes>"
      ]
     },
     "metadata": {
      "needs_background": "light"
     },
     "output_type": "display_data"
    }
   ],
   "source": [
    "plt.figure(figsize=(10,12))\n",
    "\n",
    "\n",
    "sns.boxplot(x = \"SEVERITYCODE\", y=\"PERSONCOUNT\", data=df)"
   ]
  },
  {
   "cell_type": "code",
   "execution_count": 48,
   "metadata": {},
   "outputs": [
    {
     "data": {
      "text/plain": [
       "<AxesSubplot:xlabel='SEVERITYCODE', ylabel='VEHCOUNT'>"
      ]
     },
     "execution_count": 48,
     "metadata": {},
     "output_type": "execute_result"
    },
    {
     "data": {
      "image/png": "[encoded data removed]",
      "text/plain": [
       "<Figure size 720x864 with 1 Axes>"
      ]
     },
     "metadata": {
      "needs_background": "light"
     },
     "output_type": "display_data"
    }
   ],
   "source": [
    "plt.figure(figsize=(10,12))\n",
    "\n",
    "\n",
    "sns.boxplot(x = \"SEVERITYCODE\", y=\"VEHCOUNT\", data=df)"
   ]
  },
  {
   "cell_type": "code",
   "execution_count": 52,
   "metadata": {},
   "outputs": [
    {
     "ename": "ValueError",
     "evalue": "Could not interpret input 'veh'",
     "output_type": "error",
     "traceback": [
      "\u001b[0;31m---------------------------------------------------------------------------\u001b[0m",
      "\u001b[0;31mValueError\u001b[0m                                Traceback (most recent call last)",
      "\u001b[0;32m<ipython-input-52-efa0a71e563d>\u001b[0m in \u001b[0;36m<module>\u001b[0;34m\u001b[0m\n\u001b[1;32m      4\u001b[0m \u001b[0;34m\u001b[0m\u001b[0m\n\u001b[1;32m      5\u001b[0m \u001b[0;34m\u001b[0m\u001b[0m\n\u001b[0;32m----> 6\u001b[0;31m \u001b[0msns\u001b[0m\u001b[0;34m.\u001b[0m\u001b[0mboxplot\u001b[0m\u001b[0;34m(\u001b[0m\u001b[0mx\u001b[0m \u001b[0;34m=\u001b[0m \u001b[0;34m\"veh\"\u001b[0m\u001b[0;34m,\u001b[0m \u001b[0my\u001b[0m\u001b[0;34m=\u001b[0m\u001b[0;34m\"VEHCOUNT\"\u001b[0m\u001b[0;34m,\u001b[0m \u001b[0mdata\u001b[0m\u001b[0;34m=\u001b[0m\u001b[0mdf\u001b[0m\u001b[0;34m)\u001b[0m\u001b[0;34m\u001b[0m\u001b[0;34m\u001b[0m\u001b[0m\n\u001b[0m",
      "\u001b[0;32m~/opt/anaconda3/lib/python3.7/site-packages/seaborn/_decorators.py\u001b[0m in \u001b[0;36minner_f\u001b[0;34m(*args, **kwargs)\u001b[0m\n\u001b[1;32m     44\u001b[0m             )\n\u001b[1;32m     45\u001b[0m         \u001b[0mkwargs\u001b[0m\u001b[0;34m.\u001b[0m\u001b[0mupdate\u001b[0m\u001b[0;34m(\u001b[0m\u001b[0;34m{\u001b[0m\u001b[0mk\u001b[0m\u001b[0;34m:\u001b[0m \u001b[0marg\u001b[0m \u001b[0;32mfor\u001b[0m \u001b[0mk\u001b[0m\u001b[0;34m,\u001b[0m \u001b[0marg\u001b[0m \u001b[0;32min\u001b[0m \u001b[0mzip\u001b[0m\u001b[0;34m(\u001b[0m\u001b[0msig\u001b[0m\u001b[0;34m.\u001b[0m\u001b[0mparameters\u001b[0m\u001b[0;34m,\u001b[0m \u001b[0margs\u001b[0m\u001b[0;34m)\u001b[0m\u001b[0;34m}\u001b[0m\u001b[0;34m)\u001b[0m\u001b[0;34m\u001b[0m\u001b[0;34m\u001b[0m\u001b[0m\n\u001b[0;32m---> 46\u001b[0;31m         \u001b[0;32mreturn\u001b[0m \u001b[0mf\u001b[0m\u001b[0;34m(\u001b[0m\u001b[0;34m**\u001b[0m\u001b[0mkwargs\u001b[0m\u001b[0;34m)\u001b[0m\u001b[0;34m\u001b[0m\u001b[0;34m\u001b[0m\u001b[0m\n\u001b[0m\u001b[1;32m     47\u001b[0m     \u001b[0;32mreturn\u001b[0m \u001b[0minner_f\u001b[0m\u001b[0;34m\u001b[0m\u001b[0;34m\u001b[0m\u001b[0m\n\u001b[1;32m     48\u001b[0m \u001b[0;34m\u001b[0m\u001b[0m\n",
      "\u001b[0;32m~/opt/anaconda3/lib/python3.7/site-packages/seaborn/categorical.py\u001b[0m in \u001b[0;36mboxplot\u001b[0;34m(x, y, hue, data, order, hue_order, orient, color, palette, saturation, width, dodge, fliersize, linewidth, whis, ax, **kwargs)\u001b[0m\n\u001b[1;32m   2230\u001b[0m     plotter = _BoxPlotter(x, y, hue, data, order, hue_order,\n\u001b[1;32m   2231\u001b[0m                           \u001b[0morient\u001b[0m\u001b[0;34m,\u001b[0m \u001b[0mcolor\u001b[0m\u001b[0;34m,\u001b[0m \u001b[0mpalette\u001b[0m\u001b[0;34m,\u001b[0m \u001b[0msaturation\u001b[0m\u001b[0;34m,\u001b[0m\u001b[0;34m\u001b[0m\u001b[0;34m\u001b[0m\u001b[0m\n\u001b[0;32m-> 2232\u001b[0;31m                           width, dodge, fliersize, linewidth)\n\u001b[0m\u001b[1;32m   2233\u001b[0m \u001b[0;34m\u001b[0m\u001b[0m\n\u001b[1;32m   2234\u001b[0m     \u001b[0;32mif\u001b[0m \u001b[0max\u001b[0m \u001b[0;32mis\u001b[0m \u001b[0;32mNone\u001b[0m\u001b[0;34m:\u001b[0m\u001b[0;34m\u001b[0m\u001b[0;34m\u001b[0m\u001b[0m\n",
      "\u001b[0;32m~/opt/anaconda3/lib/python3.7/site-packages/seaborn/categorical.py\u001b[0m in \u001b[0;36m__init__\u001b[0;34m(self, x, y, hue, data, order, hue_order, orient, color, palette, saturation, width, dodge, fliersize, linewidth)\u001b[0m\n\u001b[1;32m    404\u001b[0m                  width, dodge, fliersize, linewidth):\n\u001b[1;32m    405\u001b[0m \u001b[0;34m\u001b[0m\u001b[0m\n\u001b[0;32m--> 406\u001b[0;31m         \u001b[0mself\u001b[0m\u001b[0;34m.\u001b[0m\u001b[0mestablish_variables\u001b[0m\u001b[0;34m(\u001b[0m\u001b[0mx\u001b[0m\u001b[0;34m,\u001b[0m \u001b[0my\u001b[0m\u001b[0;34m,\u001b[0m \u001b[0mhue\u001b[0m\u001b[0;34m,\u001b[0m \u001b[0mdata\u001b[0m\u001b[0;34m,\u001b[0m \u001b[0morient\u001b[0m\u001b[0;34m,\u001b[0m \u001b[0morder\u001b[0m\u001b[0;34m,\u001b[0m \u001b[0mhue_order\u001b[0m\u001b[0;34m)\u001b[0m\u001b[0;34m\u001b[0m\u001b[0;34m\u001b[0m\u001b[0m\n\u001b[0m\u001b[1;32m    407\u001b[0m         \u001b[0mself\u001b[0m\u001b[0;34m.\u001b[0m\u001b[0mestablish_colors\u001b[0m\u001b[0;34m(\u001b[0m\u001b[0mcolor\u001b[0m\u001b[0;34m,\u001b[0m \u001b[0mpalette\u001b[0m\u001b[0;34m,\u001b[0m \u001b[0msaturation\u001b[0m\u001b[0;34m)\u001b[0m\u001b[0;34m\u001b[0m\u001b[0;34m\u001b[0m\u001b[0m\n\u001b[1;32m    408\u001b[0m \u001b[0;34m\u001b[0m\u001b[0m\n",
      "\u001b[0;32m~/opt/anaconda3/lib/python3.7/site-packages/seaborn/categorical.py\u001b[0m in \u001b[0;36mestablish_variables\u001b[0;34m(self, x, y, hue, data, orient, order, hue_order, units)\u001b[0m\n\u001b[1;32m    151\u001b[0m                 \u001b[0;32mif\u001b[0m \u001b[0misinstance\u001b[0m\u001b[0;34m(\u001b[0m\u001b[0mvar\u001b[0m\u001b[0;34m,\u001b[0m \u001b[0mstr\u001b[0m\u001b[0;34m)\u001b[0m\u001b[0;34m:\u001b[0m\u001b[0;34m\u001b[0m\u001b[0;34m\u001b[0m\u001b[0m\n\u001b[1;32m    152\u001b[0m                     \u001b[0merr\u001b[0m \u001b[0;34m=\u001b[0m \u001b[0;34m\"Could not interpret input '{}'\"\u001b[0m\u001b[0;34m.\u001b[0m\u001b[0mformat\u001b[0m\u001b[0;34m(\u001b[0m\u001b[0mvar\u001b[0m\u001b[0;34m)\u001b[0m\u001b[0;34m\u001b[0m\u001b[0;34m\u001b[0m\u001b[0m\n\u001b[0;32m--> 153\u001b[0;31m                     \u001b[0;32mraise\u001b[0m \u001b[0mValueError\u001b[0m\u001b[0;34m(\u001b[0m\u001b[0merr\u001b[0m\u001b[0;34m)\u001b[0m\u001b[0;34m\u001b[0m\u001b[0;34m\u001b[0m\u001b[0m\n\u001b[0m\u001b[1;32m    154\u001b[0m \u001b[0;34m\u001b[0m\u001b[0m\n\u001b[1;32m    155\u001b[0m             \u001b[0;31m# Figure out the plotting orientation\u001b[0m\u001b[0;34m\u001b[0m\u001b[0;34m\u001b[0m\u001b[0;34m\u001b[0m\u001b[0m\n",
      "\u001b[0;31mValueError\u001b[0m: Could not interpret input 'veh'"
     ]
    },
    {
     "data": {
      "text/plain": [
       "<Figure size 720x864 with 0 Axes>"
      ]
     },
     "metadata": {},
     "output_type": "display_data"
    }
   ],
   "source": [
    "veh = df['VEHCOUNT'].value_counts()\n",
    "\n",
    "plt.figure(figsize=(10,12))\n",
    "\n",
    "\n",
    "sns.boxplot(x = \"veh\", y=\"VEHCOUNT\", data=df)"
   ]
  },
  {
   "cell_type": "markdown",
   "metadata": {},
   "source": [
    "## References <a name=\"notes\"></a>"
   ]
  },
  {
   "cell_type": "markdown",
   "metadata": {},
   "source": [
    "1. \"Road traffic injuries\", World Health Organisation (WHO), 07/02/2020, https://www.who.int/news-room/fact-sheets/detail/road-traffic-injuries\n",
    "2. Ibid.\n",
    "3. \"ArcGIS Metadata Form\", https://s3.us.cloud-object-storage.appdomain.cloud/cf-courses-data/CognitiveClass/DP0701EN/version-2/Metadata.pdf"
   ]
  }
 ],
 "metadata": {
  "kernelspec": {
   "display_name": "Python 3",
   "language": "python",
   "name": "python3"
  },
  "language_info": {
   "codemirror_mode": {
    "name": "ipython",
    "version": 3
   },
   "file_extension": ".py",
   "mimetype": "text/x-python",
   "name": "python",
   "nbconvert_exporter": "python",
   "pygments_lexer": "ipython3",
   "version": "3.7.9"
  }
 },
 "nbformat": 4,
 "nbformat_minor": 4
}
