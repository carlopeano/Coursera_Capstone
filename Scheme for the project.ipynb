{
 "cells": [
  {
   "cell_type": "markdown",
   "metadata": {},
   "source": [
    "# Applied Data Science Capstone Project - Car Accident Severity (Week 1)\n",
    "\n",
    "### Applied Data Science Capstone by IBM/Coursera"
   ]
  },
  {
   "cell_type": "markdown",
   "metadata": {},
   "source": [
    "## Table of contents\n",
    "* [Business Understanding](#business)\n",
    "* [Data understanding](#understanding)\n",
    "* [Data Preparation](#preparation)\n",
    "* [Modeling](#modeling)\n",
    "* [Evaluation](#evaluation)\n",
    "* [Deployment](#deployment)\n",
    "* [References](#notes)"
   ]
  },
  {
   "cell_type": "markdown",
   "metadata": {},
   "source": [
    "## Business Understanding  <a name=\"business\"></a>"
   ]
  },
  {
   "cell_type": "markdown",
   "metadata": {},
   "source": [
    "According to the WHO ([1](#notes)), even though vehicles have become much safer in the last decades, every year around 1.35 million people still die because of a road traffic crash and between 20 and 50 million more people suffer non-fatal injuries with many incurring a disability.\n",
    "\n",
    "If we take a different perspective and consider the economic impact at national level, road traffic accidents also cost around 3% of gross domestic product to most countries ([2](#notes)).\n",
    "\n",
    "Therefore, there is a great interest in different parts of society (such governments, decision-makers, car-makers, drivers, insurance companies) in changing and descreasing this trend.\n",
    "\n",
    "A solution that would reduce the number of incidents could be the chance to warn a driver about the possibility of getting into a car accident and how severe that incident would be, given the weather and road conditions. In this way people would drive more carefully or even stay home.\n",
    "\n",
    "Transforming this issue into a machine learning problem, we could use a dataset provided by a city and its police department (in our case Seattle City and the SPD - Seattle Police Department) to predict the probability and severity of an accident based on various factors, such as the conditions of weather and the road."
   ]
  },
  {
   "cell_type": "markdown",
   "metadata": {},
   "source": [
    "## Data understanding <a name=\"understanding\"></a>"
   ]
  },
  {
   "cell_type": "markdown",
   "metadata": {},
   "source": [
    "As already mentioned above, in this project we use the data provided by the SPD (Seattle Police Department) and recorded by the Traffic Records. This dataset - called Data-Collisions.csv - includes all types of collisions involving cars, bikes, pedestrians and others (around 200,000) from 2004 to present.\n",
    "\n",
    "In this phase, after we extract the dataset we look for the most relevant attributes - related to the severity of an incident - out of the 38 available. Logically, the proper attributes are related to the the objective of our project, i.e. condition of the road, driver and weather.\n",
    "\n",
    "Lastly, we search for trends, pattern and correlations."
   ]
  },
  {
   "cell_type": "markdown",
   "metadata": {},
   "source": [
    "## Data Preparation <a name=\"preparation\"></a>"
   ]
  },
  {
   "cell_type": "markdown",
   "metadata": {},
   "source": [
    "At this point, we drop the columns that are not interesting for us, deal with the missing data (look for them, decide what method apply, etc...), control the data format, balancing the labeled data, transform the categorical variables in binary variables if needed, clean the dataset and normalise the data so as to be ready for the next phase - i.e. modeling."
   ]
  },
  {
   "cell_type": "markdown",
   "metadata": {},
   "source": [
    "## Modeling <a name=\"modeling\"></a>"
   ]
  },
  {
   "cell_type": "markdown",
   "metadata": {},
   "source": [
    "During modeling, we select and apply various algoritms and methods - which also include supervised machine learning techniques, such as  K-nearest neighbours, decision trees, logistic regression and support vector machine  (SVM) - and see what solution seems to build the best model. \n",
    "\n",
    "We may also need to step back to the data preparation phase in order to finetune our model."
   ]
  },
  {
   "cell_type": "markdown",
   "metadata": {},
   "source": [
    "## Evaluation <a name=\"evaluation\"></a>"
   ]
  },
  {
   "cell_type": "markdown",
   "metadata": {},
   "source": [
    "Using specific metrics (such as accuracy, recall, F1-score, precision), we evaluate the models that have developed to find the one that better ensures the achievement of the project's objective - i.e. the prediction of the probability and severity of an accident."
   ]
  },
  {
   "cell_type": "markdown",
   "metadata": {},
   "source": [
    "## Deployment <a name=\"deployment\"></a>"
   ]
  },
  {
   "cell_type": "markdown",
   "metadata": {},
   "source": [
    "In this phase a jupyter notebook is shared on Git Hub. We also provide a solution (creating a report/post/presentation, developing interactive visualization, or making the machine learning model available in the production environment) that fulfills the project's objectives - the prediction of the probability of an accident and its severity - and allow the end-users to utilize it."
   ]
  },
  {
   "cell_type": "markdown",
   "metadata": {},
   "source": [
    "## References <a name=\"notes\"></a>"
   ]
  },
  {
   "cell_type": "markdown",
   "metadata": {},
   "source": [
    "1. \"Road traffic injuries\", World Health Organisation (WHO), 07/02/2020, https://www.who.int/news-room/fact-sheets/detail/road-traffic-injuries\n",
    "2. Ibid."
   ]
  }
 ],
 "metadata": {
  "kernelspec": {
   "display_name": "Python 3",
   "language": "python",
   "name": "python3"
  },
  "language_info": {
   "codemirror_mode": {
    "name": "ipython",
    "version": 3
   },
   "file_extension": ".py",
   "mimetype": "text/x-python",
   "name": "python",
   "nbconvert_exporter": "python",
   "pygments_lexer": "ipython3",
   "version": "3.7.7"
  }
 },
 "nbformat": 4,
 "nbformat_minor": 4
}
